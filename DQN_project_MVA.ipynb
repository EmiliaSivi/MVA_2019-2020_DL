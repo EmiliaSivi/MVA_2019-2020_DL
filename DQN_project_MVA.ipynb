{
  "nbformat": 4,
  "nbformat_minor": 0,
  "metadata": {
    "kernelspec": {
      "name": "python3",
      "display_name": "Python 3"
    },
    "language_info": {
      "codemirror_mode": {
        "name": "ipython",
        "version": 3
      },
      "file_extension": ".py",
      "mimetype": "text/x-python",
      "name": "python",
      "nbconvert_exporter": "python",
      "pygments_lexer": "ipython3",
      "version": "3.6.5"
    },
    "colab": {
      "name": "DQN_project_MVA.ipynb",
      "provenance": [],
      "collapsed_sections": []
    },
    "accelerator": "GPU"
  },
  "cells": [
    {
      "cell_type": "markdown",
      "metadata": {
        "id": "Qc1CtDditpUF",
        "colab_type": "text"
      },
      "source": [
        "**You may need to install [OpenCV](https://pypi.python.org/pypi/opencv-python) and [scikit-video](http://www.scikit-video.org/stable/).**"
      ]
    },
    {
      "cell_type": "code",
      "metadata": {
        "id": "CV1HZCiXt9cu",
        "colab_type": "code",
        "outputId": "e0d05170-fd14-4b7e-c88e-10c88a98e104",
        "colab": {
          "base_uri": "https://localhost:8080/",
          "height": 156
        }
      },
      "source": [
        "!pip install scikit-video"
      ],
      "execution_count": 1,
      "outputs": [
        {
          "output_type": "stream",
          "text": [
            "Collecting scikit-video\n",
            "\u001b[?25l  Downloading https://files.pythonhosted.org/packages/b1/a6/c69cad508139a342810ae46e946ebb3256aa6e42f690d901bb68f50582e3/scikit_video-1.1.11-py2.py3-none-any.whl (2.3MB)\n",
            "\r\u001b[K     |▏                               | 10kB 17.5MB/s eta 0:00:01\r\u001b[K     |▎                               | 20kB 25.2MB/s eta 0:00:01\r\u001b[K     |▍                               | 30kB 29.6MB/s eta 0:00:01\r\u001b[K     |▋                               | 40kB 31.5MB/s eta 0:00:01\r\u001b[K     |▊                               | 51kB 33.9MB/s eta 0:00:01\r\u001b[K     |▉                               | 61kB 36.5MB/s eta 0:00:01\r\u001b[K     |█                               | 71kB 37.1MB/s eta 0:00:01\r\u001b[K     |█▏                              | 81kB 36.6MB/s eta 0:00:01\r\u001b[K     |█▎                              | 92kB 37.8MB/s eta 0:00:01\r\u001b[K     |█▌                              | 102kB 37.9MB/s eta 0:00:01\r\u001b[K     |█▋                              | 112kB 37.9MB/s eta 0:00:01\r\u001b[K     |█▊                              | 122kB 37.9MB/s eta 0:00:01\r\u001b[K     |██                              | 133kB 37.9MB/s eta 0:00:01\r\u001b[K     |██                              | 143kB 37.9MB/s eta 0:00:01\r\u001b[K     |██▏                             | 153kB 37.9MB/s eta 0:00:01\r\u001b[K     |██▎                             | 163kB 37.9MB/s eta 0:00:01\r\u001b[K     |██▌                             | 174kB 37.9MB/s eta 0:00:01\r\u001b[K     |██▋                             | 184kB 37.9MB/s eta 0:00:01\r\u001b[K     |██▊                             | 194kB 37.9MB/s eta 0:00:01\r\u001b[K     |███                             | 204kB 37.9MB/s eta 0:00:01\r\u001b[K     |███                             | 215kB 37.9MB/s eta 0:00:01\r\u001b[K     |███▏                            | 225kB 37.9MB/s eta 0:00:01\r\u001b[K     |███▍                            | 235kB 37.9MB/s eta 0:00:01\r\u001b[K     |███▌                            | 245kB 37.9MB/s eta 0:00:01\r\u001b[K     |███▋                            | 256kB 37.9MB/s eta 0:00:01\r\u001b[K     |███▉                            | 266kB 37.9MB/s eta 0:00:01\r\u001b[K     |████                            | 276kB 37.9MB/s eta 0:00:01\r\u001b[K     |████                            | 286kB 37.9MB/s eta 0:00:01\r\u001b[K     |████▏                           | 296kB 37.9MB/s eta 0:00:01\r\u001b[K     |████▍                           | 307kB 37.9MB/s eta 0:00:01\r\u001b[K     |████▌                           | 317kB 37.9MB/s eta 0:00:01\r\u001b[K     |████▋                           | 327kB 37.9MB/s eta 0:00:01\r\u001b[K     |████▉                           | 337kB 37.9MB/s eta 0:00:01\r\u001b[K     |█████                           | 348kB 37.9MB/s eta 0:00:01\r\u001b[K     |█████                           | 358kB 37.9MB/s eta 0:00:01\r\u001b[K     |█████▎                          | 368kB 37.9MB/s eta 0:00:01\r\u001b[K     |█████▍                          | 378kB 37.9MB/s eta 0:00:01\r\u001b[K     |█████▌                          | 389kB 37.9MB/s eta 0:00:01\r\u001b[K     |█████▊                          | 399kB 37.9MB/s eta 0:00:01\r\u001b[K     |█████▉                          | 409kB 37.9MB/s eta 0:00:01\r\u001b[K     |██████                          | 419kB 37.9MB/s eta 0:00:01\r\u001b[K     |██████                          | 430kB 37.9MB/s eta 0:00:01\r\u001b[K     |██████▎                         | 440kB 37.9MB/s eta 0:00:01\r\u001b[K     |██████▍                         | 450kB 37.9MB/s eta 0:00:01\r\u001b[K     |██████▌                         | 460kB 37.9MB/s eta 0:00:01\r\u001b[K     |██████▊                         | 471kB 37.9MB/s eta 0:00:01\r\u001b[K     |██████▉                         | 481kB 37.9MB/s eta 0:00:01\r\u001b[K     |███████                         | 491kB 37.9MB/s eta 0:00:01\r\u001b[K     |███████▏                        | 501kB 37.9MB/s eta 0:00:01\r\u001b[K     |███████▎                        | 512kB 37.9MB/s eta 0:00:01\r\u001b[K     |███████▍                        | 522kB 37.9MB/s eta 0:00:01\r\u001b[K     |███████▋                        | 532kB 37.9MB/s eta 0:00:01\r\u001b[K     |███████▊                        | 542kB 37.9MB/s eta 0:00:01\r\u001b[K     |███████▉                        | 552kB 37.9MB/s eta 0:00:01\r\u001b[K     |████████                        | 563kB 37.9MB/s eta 0:00:01\r\u001b[K     |████████▏                       | 573kB 37.9MB/s eta 0:00:01\r\u001b[K     |████████▎                       | 583kB 37.9MB/s eta 0:00:01\r\u001b[K     |████████▍                       | 593kB 37.9MB/s eta 0:00:01\r\u001b[K     |████████▋                       | 604kB 37.9MB/s eta 0:00:01\r\u001b[K     |████████▊                       | 614kB 37.9MB/s eta 0:00:01\r\u001b[K     |████████▉                       | 624kB 37.9MB/s eta 0:00:01\r\u001b[K     |█████████                       | 634kB 37.9MB/s eta 0:00:01\r\u001b[K     |█████████▏                      | 645kB 37.9MB/s eta 0:00:01\r\u001b[K     |█████████▎                      | 655kB 37.9MB/s eta 0:00:01\r\u001b[K     |█████████▌                      | 665kB 37.9MB/s eta 0:00:01\r\u001b[K     |█████████▋                      | 675kB 37.9MB/s eta 0:00:01\r\u001b[K     |█████████▊                      | 686kB 37.9MB/s eta 0:00:01\r\u001b[K     |█████████▉                      | 696kB 37.9MB/s eta 0:00:01\r\u001b[K     |██████████                      | 706kB 37.9MB/s eta 0:00:01\r\u001b[K     |██████████▏                     | 716kB 37.9MB/s eta 0:00:01\r\u001b[K     |██████████▎                     | 727kB 37.9MB/s eta 0:00:01\r\u001b[K     |██████████▌                     | 737kB 37.9MB/s eta 0:00:01\r\u001b[K     |██████████▋                     | 747kB 37.9MB/s eta 0:00:01\r\u001b[K     |██████████▊                     | 757kB 37.9MB/s eta 0:00:01\r\u001b[K     |███████████                     | 768kB 37.9MB/s eta 0:00:01\r\u001b[K     |███████████                     | 778kB 37.9MB/s eta 0:00:01\r\u001b[K     |███████████▏                    | 788kB 37.9MB/s eta 0:00:01\r\u001b[K     |███████████▍                    | 798kB 37.9MB/s eta 0:00:01\r\u001b[K     |███████████▌                    | 808kB 37.9MB/s eta 0:00:01\r\u001b[K     |███████████▋                    | 819kB 37.9MB/s eta 0:00:01\r\u001b[K     |███████████▊                    | 829kB 37.9MB/s eta 0:00:01\r\u001b[K     |████████████                    | 839kB 37.9MB/s eta 0:00:01\r\u001b[K     |████████████                    | 849kB 37.9MB/s eta 0:00:01\r\u001b[K     |████████████▏                   | 860kB 37.9MB/s eta 0:00:01\r\u001b[K     |████████████▍                   | 870kB 37.9MB/s eta 0:00:01\r\u001b[K     |████████████▌                   | 880kB 37.9MB/s eta 0:00:01\r\u001b[K     |████████████▋                   | 890kB 37.9MB/s eta 0:00:01\r\u001b[K     |████████████▉                   | 901kB 37.9MB/s eta 0:00:01\r\u001b[K     |█████████████                   | 911kB 37.9MB/s eta 0:00:01\r\u001b[K     |█████████████                   | 921kB 37.9MB/s eta 0:00:01\r\u001b[K     |█████████████▎                  | 931kB 37.9MB/s eta 0:00:01\r\u001b[K     |█████████████▍                  | 942kB 37.9MB/s eta 0:00:01\r\u001b[K     |█████████████▌                  | 952kB 37.9MB/s eta 0:00:01\r\u001b[K     |█████████████▋                  | 962kB 37.9MB/s eta 0:00:01\r\u001b[K     |█████████████▉                  | 972kB 37.9MB/s eta 0:00:01\r\u001b[K     |██████████████                  | 983kB 37.9MB/s eta 0:00:01\r\u001b[K     |██████████████                  | 993kB 37.9MB/s eta 0:00:01\r\u001b[K     |██████████████▎                 | 1.0MB 37.9MB/s eta 0:00:01\r\u001b[K     |██████████████▍                 | 1.0MB 37.9MB/s eta 0:00:01\r\u001b[K     |██████████████▌                 | 1.0MB 37.9MB/s eta 0:00:01\r\u001b[K     |██████████████▊                 | 1.0MB 37.9MB/s eta 0:00:01\r\u001b[K     |██████████████▉                 | 1.0MB 37.9MB/s eta 0:00:01\r\u001b[K     |███████████████                 | 1.1MB 37.9MB/s eta 0:00:01\r\u001b[K     |███████████████▏                | 1.1MB 37.9MB/s eta 0:00:01\r\u001b[K     |███████████████▎                | 1.1MB 37.9MB/s eta 0:00:01\r\u001b[K     |███████████████▍                | 1.1MB 37.9MB/s eta 0:00:01\r\u001b[K     |███████████████▌                | 1.1MB 37.9MB/s eta 0:00:01\r\u001b[K     |███████████████▊                | 1.1MB 37.9MB/s eta 0:00:01\r\u001b[K     |███████████████▉                | 1.1MB 37.9MB/s eta 0:00:01\r\u001b[K     |████████████████                | 1.1MB 37.9MB/s eta 0:00:01\r\u001b[K     |████████████████▏               | 1.1MB 37.9MB/s eta 0:00:01\r\u001b[K     |████████████████▎               | 1.1MB 37.9MB/s eta 0:00:01\r\u001b[K     |████████████████▍               | 1.2MB 37.9MB/s eta 0:00:01\r\u001b[K     |████████████████▋               | 1.2MB 37.9MB/s eta 0:00:01\r\u001b[K     |████████████████▊               | 1.2MB 37.9MB/s eta 0:00:01\r\u001b[K     |████████████████▉               | 1.2MB 37.9MB/s eta 0:00:01\r\u001b[K     |█████████████████               | 1.2MB 37.9MB/s eta 0:00:01\r\u001b[K     |█████████████████▏              | 1.2MB 37.9MB/s eta 0:00:01\r\u001b[K     |█████████████████▎              | 1.2MB 37.9MB/s eta 0:00:01\r\u001b[K     |█████████████████▍              | 1.2MB 37.9MB/s eta 0:00:01\r\u001b[K     |█████████████████▋              | 1.2MB 37.9MB/s eta 0:00:01\r\u001b[K     |█████████████████▊              | 1.2MB 37.9MB/s eta 0:00:01\r\u001b[K     |█████████████████▉              | 1.3MB 37.9MB/s eta 0:00:01\r\u001b[K     |██████████████████              | 1.3MB 37.9MB/s eta 0:00:01\r\u001b[K     |██████████████████▏             | 1.3MB 37.9MB/s eta 0:00:01\r\u001b[K     |██████████████████▎             | 1.3MB 37.9MB/s eta 0:00:01\r\u001b[K     |██████████████████▌             | 1.3MB 37.9MB/s eta 0:00:01\r\u001b[K     |██████████████████▋             | 1.3MB 37.9MB/s eta 0:00:01\r\u001b[K     |██████████████████▊             | 1.3MB 37.9MB/s eta 0:00:01\r\u001b[K     |███████████████████             | 1.3MB 37.9MB/s eta 0:00:01\r\u001b[K     |███████████████████             | 1.3MB 37.9MB/s eta 0:00:01\r\u001b[K     |███████████████████▏            | 1.4MB 37.9MB/s eta 0:00:01\r\u001b[K     |███████████████████▎            | 1.4MB 37.9MB/s eta 0:00:01\r\u001b[K     |███████████████████▌            | 1.4MB 37.9MB/s eta 0:00:01\r\u001b[K     |███████████████████▋            | 1.4MB 37.9MB/s eta 0:00:01\r\u001b[K     |███████████████████▊            | 1.4MB 37.9MB/s eta 0:00:01\r\u001b[K     |████████████████████            | 1.4MB 37.9MB/s eta 0:00:01\r\u001b[K     |████████████████████            | 1.4MB 37.9MB/s eta 0:00:01\r\u001b[K     |████████████████████▏           | 1.4MB 37.9MB/s eta 0:00:01\r\u001b[K     |████████████████████▍           | 1.4MB 37.9MB/s eta 0:00:01\r\u001b[K     |████████████████████▌           | 1.4MB 37.9MB/s eta 0:00:01\r\u001b[K     |████████████████████▋           | 1.5MB 37.9MB/s eta 0:00:01\r\u001b[K     |████████████████████▉           | 1.5MB 37.9MB/s eta 0:00:01\r\u001b[K     |█████████████████████           | 1.5MB 37.9MB/s eta 0:00:01\r\u001b[K     |█████████████████████           | 1.5MB 37.9MB/s eta 0:00:01\r\u001b[K     |█████████████████████▏          | 1.5MB 37.9MB/s eta 0:00:01\r\u001b[K     |█████████████████████▍          | 1.5MB 37.9MB/s eta 0:00:01\r\u001b[K     |█████████████████████▌          | 1.5MB 37.9MB/s eta 0:00:01\r\u001b[K     |█████████████████████▋          | 1.5MB 37.9MB/s eta 0:00:01\r\u001b[K     |█████████████████████▉          | 1.5MB 37.9MB/s eta 0:00:01\r\u001b[K     |██████████████████████          | 1.5MB 37.9MB/s eta 0:00:01\r\u001b[K     |██████████████████████          | 1.6MB 37.9MB/s eta 0:00:01\r\u001b[K     |██████████████████████▎         | 1.6MB 37.9MB/s eta 0:00:01\r\u001b[K     |██████████████████████▍         | 1.6MB 37.9MB/s eta 0:00:01\r\u001b[K     |██████████████████████▌         | 1.6MB 37.9MB/s eta 0:00:01\r\u001b[K     |██████████████████████▊         | 1.6MB 37.9MB/s eta 0:00:01\r\u001b[K     |██████████████████████▉         | 1.6MB 37.9MB/s eta 0:00:01\r\u001b[K     |███████████████████████         | 1.6MB 37.9MB/s eta 0:00:01\r\u001b[K     |███████████████████████         | 1.6MB 37.9MB/s eta 0:00:01\r\u001b[K     |███████████████████████▎        | 1.6MB 37.9MB/s eta 0:00:01\r\u001b[K     |███████████████████████▍        | 1.6MB 37.9MB/s eta 0:00:01\r\u001b[K     |███████████████████████▌        | 1.7MB 37.9MB/s eta 0:00:01\r\u001b[K     |███████████████████████▊        | 1.7MB 37.9MB/s eta 0:00:01\r\u001b[K     |███████████████████████▉        | 1.7MB 37.9MB/s eta 0:00:01\r\u001b[K     |████████████████████████        | 1.7MB 37.9MB/s eta 0:00:01\r\u001b[K     |████████████████████████▏       | 1.7MB 37.9MB/s eta 0:00:01\r\u001b[K     |████████████████████████▎       | 1.7MB 37.9MB/s eta 0:00:01\r\u001b[K     |████████████████████████▍       | 1.7MB 37.9MB/s eta 0:00:01\r\u001b[K     |████████████████████████▋       | 1.7MB 37.9MB/s eta 0:00:01\r\u001b[K     |████████████████████████▊       | 1.7MB 37.9MB/s eta 0:00:01\r\u001b[K     |████████████████████████▉       | 1.8MB 37.9MB/s eta 0:00:01\r\u001b[K     |█████████████████████████       | 1.8MB 37.9MB/s eta 0:00:01\r\u001b[K     |█████████████████████████▏      | 1.8MB 37.9MB/s eta 0:00:01\r\u001b[K     |█████████████████████████▎      | 1.8MB 37.9MB/s eta 0:00:01\r\u001b[K     |█████████████████████████▍      | 1.8MB 37.9MB/s eta 0:00:01\r\u001b[K     |█████████████████████████▋      | 1.8MB 37.9MB/s eta 0:00:01\r\u001b[K     |█████████████████████████▊      | 1.8MB 37.9MB/s eta 0:00:01\r\u001b[K     |█████████████████████████▉      | 1.8MB 37.9MB/s eta 0:00:01\r\u001b[K     |██████████████████████████      | 1.8MB 37.9MB/s eta 0:00:01\r\u001b[K     |██████████████████████████▏     | 1.8MB 37.9MB/s eta 0:00:01\r\u001b[K     |██████████████████████████▎     | 1.9MB 37.9MB/s eta 0:00:01\r\u001b[K     |██████████████████████████▌     | 1.9MB 37.9MB/s eta 0:00:01\r\u001b[K     |██████████████████████████▋     | 1.9MB 37.9MB/s eta 0:00:01\r\u001b[K     |██████████████████████████▊     | 1.9MB 37.9MB/s eta 0:00:01\r\u001b[K     |██████████████████████████▉     | 1.9MB 37.9MB/s eta 0:00:01\r\u001b[K     |███████████████████████████     | 1.9MB 37.9MB/s eta 0:00:01\r\u001b[K     |███████████████████████████▏    | 1.9MB 37.9MB/s eta 0:00:01\r\u001b[K     |███████████████████████████▎    | 1.9MB 37.9MB/s eta 0:00:01\r\u001b[K     |███████████████████████████▌    | 1.9MB 37.9MB/s eta 0:00:01\r\u001b[K     |███████████████████████████▋    | 1.9MB 37.9MB/s eta 0:00:01\r\u001b[K     |███████████████████████████▊    | 2.0MB 37.9MB/s eta 0:00:01\r\u001b[K     |████████████████████████████    | 2.0MB 37.9MB/s eta 0:00:01\r\u001b[K     |████████████████████████████    | 2.0MB 37.9MB/s eta 0:00:01\r\u001b[K     |████████████████████████████▏   | 2.0MB 37.9MB/s eta 0:00:01\r\u001b[K     |████████████████████████████▍   | 2.0MB 37.9MB/s eta 0:00:01\r\u001b[K     |████████████████████████████▌   | 2.0MB 37.9MB/s eta 0:00:01\r\u001b[K     |████████████████████████████▋   | 2.0MB 37.9MB/s eta 0:00:01\r\u001b[K     |████████████████████████████▊   | 2.0MB 37.9MB/s eta 0:00:01\r\u001b[K     |█████████████████████████████   | 2.0MB 37.9MB/s eta 0:00:01\r\u001b[K     |█████████████████████████████   | 2.0MB 37.9MB/s eta 0:00:01\r\u001b[K     |█████████████████████████████▏  | 2.1MB 37.9MB/s eta 0:00:01\r\u001b[K     |█████████████████████████████▍  | 2.1MB 37.9MB/s eta 0:00:01\r\u001b[K     |█████████████████████████████▌  | 2.1MB 37.9MB/s eta 0:00:01\r\u001b[K     |█████████████████████████████▋  | 2.1MB 37.9MB/s eta 0:00:01\r\u001b[K     |█████████████████████████████▉  | 2.1MB 37.9MB/s eta 0:00:01\r\u001b[K     |██████████████████████████████  | 2.1MB 37.9MB/s eta 0:00:01\r\u001b[K     |██████████████████████████████  | 2.1MB 37.9MB/s eta 0:00:01\r\u001b[K     |██████████████████████████████▎ | 2.1MB 37.9MB/s eta 0:00:01\r\u001b[K     |██████████████████████████████▍ | 2.1MB 37.9MB/s eta 0:00:01\r\u001b[K     |██████████████████████████████▌ | 2.2MB 37.9MB/s eta 0:00:01\r\u001b[K     |██████████████████████████████▋ | 2.2MB 37.9MB/s eta 0:00:01\r\u001b[K     |██████████████████████████████▉ | 2.2MB 37.9MB/s eta 0:00:01\r\u001b[K     |███████████████████████████████ | 2.2MB 37.9MB/s eta 0:00:01\r\u001b[K     |███████████████████████████████ | 2.2MB 37.9MB/s eta 0:00:01\r\u001b[K     |███████████████████████████████▎| 2.2MB 37.9MB/s eta 0:00:01\r\u001b[K     |███████████████████████████████▍| 2.2MB 37.9MB/s eta 0:00:01\r\u001b[K     |███████████████████████████████▌| 2.2MB 37.9MB/s eta 0:00:01\r\u001b[K     |███████████████████████████████▊| 2.2MB 37.9MB/s eta 0:00:01\r\u001b[K     |███████████████████████████████▉| 2.2MB 37.9MB/s eta 0:00:01\r\u001b[K     |████████████████████████████████| 2.3MB 37.9MB/s eta 0:00:01\r\u001b[K     |████████████████████████████████| 2.3MB 37.9MB/s \n",
            "\u001b[?25hRequirement already satisfied: scipy in /usr/local/lib/python3.6/dist-packages (from scikit-video) (1.4.1)\n",
            "Requirement already satisfied: pillow in /usr/local/lib/python3.6/dist-packages (from scikit-video) (6.2.2)\n",
            "Requirement already satisfied: numpy in /usr/local/lib/python3.6/dist-packages (from scikit-video) (1.17.5)\n",
            "Installing collected packages: scikit-video\n",
            "Successfully installed scikit-video-1.1.11\n"
          ],
          "name": "stdout"
        }
      ]
    },
    {
      "cell_type": "code",
      "metadata": {
        "id": "HyU7qfyBtpUN",
        "colab_type": "code",
        "outputId": "755b71a9-3613-413a-f4b4-9ff5078617f6",
        "colab": {
          "base_uri": "https://localhost:8080/",
          "height": 81
        }
      },
      "source": [
        "import keras\n",
        "import numpy as np\n",
        "import io\n",
        "import base64\n",
        "from IPython.display import HTML\n",
        "import skvideo.io\n",
        "import cv2\n",
        "import json\n",
        "\n",
        "from keras.models import Sequential,model_from_json\n",
        "from keras.layers.core import Dense\n",
        "from keras.optimizers import sgd\n",
        "from keras.layers import Conv2D, MaxPooling2D, Activation, AveragePooling2D,Reshape,BatchNormalization"
      ],
      "execution_count": 2,
      "outputs": [
        {
          "output_type": "stream",
          "text": [
            "Using TensorFlow backend.\n"
          ],
          "name": "stderr"
        },
        {
          "output_type": "display_data",
          "data": {
            "text/html": [
              "<p style=\"color: red;\">\n",
              "The default version of TensorFlow in Colab will soon switch to TensorFlow 2.x.<br>\n",
              "We recommend you <a href=\"https://www.tensorflow.org/guide/migrate\" target=\"_blank\">upgrade</a> now \n",
              "or ensure your notebook will continue to use TensorFlow 1.x via the <code>%tensorflow_version 1.x</code> magic:\n",
              "<a href=\"https://colab.research.google.com/notebooks/tensorflow_version.ipynb\" target=\"_blank\">more info</a>.</p>\n"
            ],
            "text/plain": [
              "<IPython.core.display.HTML object>"
            ]
          },
          "metadata": {
            "tags": []
          }
        }
      ]
    },
    {
      "cell_type": "markdown",
      "metadata": {
        "id": "eQ2zGIZhtpUX",
        "colab_type": "text"
      },
      "source": [
        "# MiniProject on Deep Reinforcement Learning"
      ]
    },
    {
      "cell_type": "markdown",
      "metadata": {
        "id": "H0HpeJrptpUZ",
        "colab_type": "text"
      },
      "source": [
        "__Notations__: $E_p$ is the expectation under probability $p$. Please justify each of your answer and widely comment your code."
      ]
    },
    {
      "cell_type": "markdown",
      "metadata": {
        "id": "1oh6-YAgtpUd",
        "colab_type": "text"
      },
      "source": [
        "# Context"
      ]
    },
    {
      "cell_type": "markdown",
      "metadata": {
        "id": "KsfXBHaAtpUi",
        "colab_type": "text"
      },
      "source": [
        "In a reinforcement learning algorithm, we modelize each step $t$ as an action $a_t$ obtained from a state $s_t$, i.e. $\\{(a_{t},s_{t})_{t\\leq T}\\}$ having the Markov property. We consider a discount factor $\\gamma \\in [0,1]$ that ensures convergence. The goal is to find among all the policies $\\pi$, one that maximizes the expected reward:\n",
        "\n",
        "\\begin{equation*}\n",
        "R(\\pi)=\\sum_{t\\leq T}E_{p^{\\pi}}[\\gamma^t r(s_{t},a_{t})] \\> ,\n",
        "\\end{equation*}\n",
        "\n",
        "where: \n",
        "\\begin{equation*}p^{\\pi}(a_{0},a_{1},s_{1},...,a_{T},s_{T})=p(a_{0})\\prod_{t=1}^{T}\\pi(a_{t}|s_{t})p(s_{t+1}|s_{t},a_{t}) \\> .\n",
        "\\end{equation*}\n",
        "\n",
        "We note the $Q$-function:\n",
        "\n",
        "\\begin{equation*}Q^\\pi(s,a)=E_{p^{\\pi}}[\\sum_{t\\leq T}\\gamma^{t}r(s_{t},a_{t})|s_{0}=s,a_{0}=a] \\> .\n",
        "\\end{equation*}\n",
        "\n",
        "Thus, the optimal Q function is:\n",
        "\\begin{equation*}\n",
        "Q^*(s,a)=\\max_{\\pi}Q^\\pi(s,a) \\> .\n",
        "\\end{equation*}\n",
        "\n",
        "In this project, we will apply the deep reinforcement learning techniques to a simple game: an agent will have to learn from scratch a policy that will permit it maximizing a reward."
      ]
    },
    {
      "cell_type": "markdown",
      "metadata": {
        "id": "r8zsAfHftpUr",
        "colab_type": "text"
      },
      "source": [
        "## The environment, the agent and the game"
      ]
    },
    {
      "cell_type": "markdown",
      "metadata": {
        "id": "TrRZJ90ntpU6",
        "colab_type": "text"
      },
      "source": [
        "### The environment"
      ]
    },
    {
      "cell_type": "markdown",
      "metadata": {
        "id": "a7-bnA49tpU8",
        "colab_type": "text"
      },
      "source": [
        "```Environment``` is an abstract class that represents the states, rewards, and actions to obtain the new state."
      ]
    },
    {
      "cell_type": "code",
      "metadata": {
        "id": "dkv9KfhAtpU-",
        "colab_type": "code",
        "colab": {}
      },
      "source": [
        "class Environment(object):\n",
        "    def __init__(self):\n",
        "        pass\n",
        "\n",
        "    def act(self, act):\n",
        "        \"\"\"\n",
        "        One can act on the environment and obtain its reaction:\n",
        "        - the new state\n",
        "        - the reward of the new state\n",
        "        - should we continue the game?\n",
        "\n",
        "        :return: state, reward, game_over\n",
        "        \"\"\"\n",
        "        pass\n",
        "\n",
        "\n",
        "    def reset(self):\n",
        "        \"\"\"\n",
        "        Reinitialize the environment to a random state and returns\n",
        "        the original state\n",
        "\n",
        "        :return: state\n",
        "        \"\"\"\n",
        "        pass\n",
        "    \n",
        "    def draw(self):\n",
        "        \"\"\"\n",
        "        Visualize in the console or graphically the current state\n",
        "        \"\"\"\n",
        "        pass"
      ],
      "execution_count": 0,
      "outputs": []
    },
    {
      "cell_type": "markdown",
      "metadata": {
        "id": "bgwFgPK0tpVN",
        "colab_type": "text"
      },
      "source": [
        "The method ```act``` allows to act on the environment at a given state $s_t$ (stored internally), via action $a_t$. The method will return the new state $s_{t+1}$, the reward $r(s_{t},a_{t})$ and determines if $t\\leq T$ (*game_over*).\n",
        "\n",
        "The method ```reset``` simply reinitializes the environment to a random state $s_0$.\n",
        "\n",
        "The method ```draw``` displays the current state $s_t$ (this is useful to check the behavior of the Agent).\n",
        "\n",
        "We modelize $s_t$ as a tensor, while $a_t$ is an integer."
      ]
    },
    {
      "cell_type": "markdown",
      "metadata": {
        "id": "kRs-HkRYtpVQ",
        "colab_type": "text"
      },
      "source": [
        "### The Agent"
      ]
    },
    {
      "cell_type": "markdown",
      "metadata": {
        "id": "1cibOx4rtpVq",
        "colab_type": "text"
      },
      "source": [
        "The goal of the ```Agent``` is to interact with the ```Environment``` by proposing actions $a_t$ obtained from a given state $s_t$ to attempt to maximize its __reward__ $r(s_t,a_t)$. We propose the following abstract class:"
      ]
    },
    {
      "cell_type": "code",
      "metadata": {
        "id": "qBzPDjtEtpVs",
        "colab_type": "code",
        "colab": {}
      },
      "source": [
        "class Agent(object):\n",
        "    def __init__(self, epsilon=0.1, n_action=4):\n",
        "        self.epsilon = epsilon\n",
        "        self.n_action = n_action\n",
        "    \n",
        "    def set_epsilon(self,e):\n",
        "        self.epsilon = e\n",
        "\n",
        "    def act(self,s,train=True):\n",
        "        \"\"\" This function should return the next action to do:\n",
        "        an integer between 0 and 4 (not included) with a random exploration of epsilon\"\"\"\n",
        "        if train:\n",
        "            if np.random.rand() <= self.epsilon:\n",
        "                a = np.random.randint(0, self.n_action, size=1)[0]\n",
        "            else:\n",
        "                a = self.learned_act(s)\n",
        "        else: # in some cases, this can improve the performance.. remove it if poor performances\n",
        "            a = self.learned_act(s)\n",
        "\n",
        "        return a\n",
        "\n",
        "    def learned_act(self,s):\n",
        "        \"\"\" Act via the policy of the agent, from a given state s\n",
        "        it proposes an action a\"\"\"\n",
        "        pass\n",
        "\n",
        "    def reinforce(self, s, n_s, a, r, game_over_):\n",
        "        \"\"\" This function is the core of the learning algorithm. \n",
        "        It takes as an input the current state s_, the next state n_s_\n",
        "        the action a_ used to move from s_ to n_s_ and the reward r_.\n",
        "        \n",
        "        Its goal is to learn a policy.\n",
        "        \"\"\"\n",
        "        pass\n",
        "\n",
        "    def save(self):\n",
        "        \"\"\" This function returns basic stats if applicable: the\n",
        "        loss and/or the model\"\"\"\n",
        "        pass\n",
        "\n",
        "    def load(self):\n",
        "        \"\"\" This function allows to restore a model\"\"\"\n",
        "        pass"
      ],
      "execution_count": 0,
      "outputs": []
    },
    {
      "cell_type": "markdown",
      "metadata": {
        "id": "mu4ziSFctpV0",
        "colab_type": "text"
      },
      "source": [
        "***\n",
        "__Question 1__:\n",
        "Explain the function act. Why is ```epsilon``` essential?"
      ]
    },
    {
      "cell_type": "markdown",
      "metadata": {
        "id": "vvxXqNystpV2",
        "colab_type": "text"
      },
      "source": [
        "The function $\\texttt{act}$ returns the action to do, given an input state. To find the next action to do, the function works as follows: if we are during the training phase, the function takes with probability $\\epsilon$ a random action (where all the actions have the same probability to be picked) and in the other cases, the action is chosen following what the agent has already learned; if we are not in the training phase, the action is always chosen thanks to the informations collected before by the agent.\n",
        "\n",
        "As it is well known, the major problem in Reinforcement Learning is the Exploration Exploitation Dilemma, which means the fact that the agent must explore as much as he can the environment and at the same time it must exploits what he knows about it in order to maximize its reward. The parameter $\\epsilon$ is essential here since it has to give a good balance between Exploration (with the random choice of the action) and Exploitation (when the action is chosen with respect of what the agent has learnt), and so its value is also important have a correct balance."
      ]
    },
    {
      "cell_type": "markdown",
      "metadata": {
        "id": "LUcN08SktpV6",
        "colab_type": "text"
      },
      "source": [
        "***\n",
        "### The Game"
      ]
    },
    {
      "cell_type": "markdown",
      "metadata": {
        "id": "0E2_BGoutpV7",
        "colab_type": "text"
      },
      "source": [
        "The ```Agent``` and the ```Environment``` work in an interlaced way as in the following (take some time to understand this code as it is the core of the project)\n",
        "\n",
        "```python\n",
        "\n",
        "epoch = 300\n",
        "env = Environment()\n",
        "agent = Agent()\n",
        "\n",
        "\n",
        "# Number of won games\n",
        "score = 0\n",
        "loss = 0\n",
        "\n",
        "\n",
        "for e in range(epoch):\n",
        "    # At each epoch, we restart to a fresh game and get the initial state\n",
        "    state = env.reset()\n",
        "    # This assumes that the games will end\n",
        "    game_over = False\n",
        "\n",
        "    win = 0\n",
        "    lose = 0\n",
        "    \n",
        "    while not game_over:\n",
        "        # The agent performs an action\n",
        "        action = agent.act(state)\n",
        "\n",
        "        # Apply an action to the environment, get the next state, the reward\n",
        "        # and if the games end\n",
        "        prev_state = state\n",
        "        state, reward, game_over = env.act(action)\n",
        "\n",
        "        # Update the counters\n",
        "        if reward > 0:\n",
        "            win = win + reward\n",
        "        if reward < 0:\n",
        "            lose = lose -reward\n",
        "\n",
        "        # Apply the reinforcement strategy\n",
        "        loss = agent.reinforce(prev_state, state,  action, reward, game_over)\n",
        "\n",
        "    # Save as a mp4\n",
        "    if e % 10 == 0:\n",
        "        env.draw(e)\n",
        "\n",
        "    # Update stats\n",
        "    score += win-lose\n",
        "\n",
        "    print(\"Epoch {:03d}/{:03d} | Loss {:.4f} | Win/lose count {}/{} ({})\"\n",
        "          .format(e, epoch, loss, win, lose, win-lose))\n",
        "    agent.save()\n",
        "```"
      ]
    },
    {
      "cell_type": "markdown",
      "metadata": {
        "id": "brFhBtFOtpV8",
        "colab_type": "text"
      },
      "source": [
        "# The game, *eat cheese*"
      ]
    },
    {
      "cell_type": "markdown",
      "metadata": {
        "id": "jkoBPJNatpV-",
        "colab_type": "text"
      },
      "source": [
        "A rat runs on an island and tries to eat as much as possible. The island is subdivided into $N\\times N$ cells, in which there are cheese (+0.5) and poisonous cells (-1). The rat has a visibility of 2 cells (thus it can see $5^2$ cells). The rat is given a time $T$ to accumulate as much food as possible. It can perform 4 actions: going up, down, left, right. \n",
        "\n",
        "The goal is to code an agent to solve this task that will learn by trial and error. We propose the following environment:"
      ]
    },
    {
      "cell_type": "code",
      "metadata": {
        "id": "aktxfUqCtpWA",
        "colab_type": "code",
        "colab": {}
      },
      "source": [
        "class Environment(object):\n",
        "    def __init__(self, grid_size=10, max_time=500, temperature=0.1):\n",
        "        grid_size = grid_size+4\n",
        "        self.grid_size = grid_size\n",
        "        self.max_time = max_time\n",
        "        self.temperature = temperature\n",
        "\n",
        "        #board on which one plays\n",
        "        self.board = np.zeros((grid_size,grid_size))\n",
        "        self.position = np.zeros((grid_size,grid_size))\n",
        "\n",
        "        # coordinate of the cat\n",
        "        self.x = 0\n",
        "        self.y = 1\n",
        "\n",
        "        # self time\n",
        "        self.t = 0\n",
        "\n",
        "        self.scale=16\n",
        "\n",
        "        self.to_draw = np.zeros((max_time+2, grid_size*self.scale, grid_size*self.scale, 3))\n",
        "\n",
        "\n",
        "    def draw(self,e):\n",
        "        skvideo.io.vwrite(str(e) + '.mp4', self.to_draw)\n",
        "\n",
        "    def get_frame(self,t):\n",
        "        b = np.zeros((self.grid_size,self.grid_size,3))+128\n",
        "        b[self.board>0,0] = 256\n",
        "        b[self.board < 0, 2] = 256\n",
        "        b[self.x,self.y,:]=256\n",
        "        b[-2:,:,:]=0\n",
        "        b[:,-2:,:]=0\n",
        "        b[:2,:,:]=0\n",
        "        b[:,:2,:]=0\n",
        "        \n",
        "        b =  cv2.resize(b, None, fx=self.scale, fy=self.scale, interpolation=cv2.INTER_NEAREST)\n",
        "\n",
        "        self.to_draw[t,:,:,:]=b\n",
        "\n",
        "\n",
        "    def act(self, action):\n",
        "        \"\"\"This function returns the new state, reward and decides if the\n",
        "        game ends.\"\"\"\n",
        "\n",
        "        self.get_frame(int(self.t))\n",
        "\n",
        "        self.position = np.zeros((self.grid_size, self.grid_size))\n",
        "\n",
        "        self.position[0:2,:]= -1\n",
        "        self.position[:,0:2] = -1\n",
        "        self.position[-2:, :] = -1\n",
        "        self.position[:, -2:] = -1\n",
        "        # self.position[-2:, :] = -1\n",
        "\n",
        "        self.position[self.x, self.y] = 1\n",
        "        if action == 0:\n",
        "            if self.x == self.grid_size-3:\n",
        "                self.x = self.x-1\n",
        "            else:\n",
        "                self.x = self.x + 1\n",
        "        elif action == 1:\n",
        "            if self.x == 2:\n",
        "                self.x = self.x+1\n",
        "            else:\n",
        "                self.x = self.x-1\n",
        "        elif action == 2:\n",
        "            if self.y == self.grid_size - 3:\n",
        "                self.y = self.y - 1\n",
        "            else:\n",
        "                self.y = self.y + 1\n",
        "        elif action == 3:\n",
        "            if self.y == 2:\n",
        "                self.y = self.y + 1\n",
        "            else:\n",
        "                self.y = self.y - 1\n",
        "        else:\n",
        "            RuntimeError('Error: action not recognized')\n",
        "\n",
        "        self.t = self.t + 1\n",
        "        reward = self.board[self.x, self.y]\n",
        "        self.board[self.x, self.y] = 0\n",
        "        game_over = self.t > self.max_time\n",
        "        state = np.concatenate((self.board.reshape(self.grid_size, self.grid_size,1),\n",
        "                        self.position.reshape(self.grid_size, self.grid_size,1)),axis=2)\n",
        "        state = state[self.x-2:self.x+3,self.y-2:self.y+3,:]\n",
        "\n",
        "        return state, reward, game_over\n",
        "\n",
        "    def reset(self):\n",
        "        \"\"\"This function resets the game and returns the initial state\"\"\"\n",
        "\n",
        "        self.x = np.random.randint(3, self.grid_size-3, size=1)[0]\n",
        "        self.y = np.random.randint(3, self.grid_size-3, size=1)[0]\n",
        "\n",
        "\n",
        "        bonus = 0.5*np.random.binomial(1,self.temperature,size=self.grid_size**2)\n",
        "        bonus = bonus.reshape(self.grid_size,self.grid_size)\n",
        "\n",
        "        malus = -1.0*np.random.binomial(1,self.temperature,size=self.grid_size**2)\n",
        "        malus = malus.reshape(self.grid_size, self.grid_size)\n",
        "\n",
        "        self.to_draw = np.zeros((self.max_time+2, self.grid_size*self.scale, self.grid_size*self.scale, 3))\n",
        "\n",
        "\n",
        "        malus[bonus>0]=0\n",
        "\n",
        "        self.board = bonus + malus\n",
        "\n",
        "        self.position = np.zeros((self.grid_size, self.grid_size))\n",
        "        self.position[0:2,:]= -1\n",
        "        self.position[:,0:2] = -1\n",
        "        self.position[-2:, :] = -1\n",
        "        # self.position[-2:, :] = -1\n",
        "        self.position[:, -2:] = -1\n",
        "        self.board[self.x,self.y] = 0\n",
        "        self.t = 0\n",
        "\n",
        "        state = np.concatenate((\n",
        "                               self.board.reshape(self.grid_size, self.grid_size,1),\n",
        "                        self.position.reshape(self.grid_size, self.grid_size,1)),axis=2)\n",
        "\n",
        "        state = state[self.x - 2:self.x + 3, self.y - 2:self.y + 3, :]\n",
        "        return state"
      ],
      "execution_count": 0,
      "outputs": []
    },
    {
      "cell_type": "markdown",
      "metadata": {
        "id": "ML_t8jQntpWD",
        "colab_type": "text"
      },
      "source": [
        "The following elements are important because they correspond to the hyper parameters for this project:"
      ]
    },
    {
      "cell_type": "code",
      "metadata": {
        "id": "y8Pv2itetpWD",
        "colab_type": "code",
        "colab": {}
      },
      "source": [
        "# parameters\n",
        "size = 13\n",
        "T=200\n",
        "temperature=0.3\n",
        "epochs_train=100 # set small when debugging\n",
        "epochs_test=20 # set small when debugging\n",
        "\n",
        "# display videos\n",
        "def display_videos(name):\n",
        "    video = io.open(name, 'r+b').read()\n",
        "    encoded = base64.b64encode(video)\n",
        "    return '''<video alt=\"test\" controls>\n",
        "                <source src=\"data:video/mp4;base64,{0}\" type=\"video/mp4\" />\n",
        "             </video>'''.format(encoded.decode('ascii'))"
      ],
      "execution_count": 0,
      "outputs": []
    },
    {
      "cell_type": "markdown",
      "metadata": {
        "id": "mykI5N50tpWL",
        "colab_type": "text"
      },
      "source": [
        "__Question 2__ Explain the use of the arrays ```position``` and ```board```."
      ]
    },
    {
      "cell_type": "markdown",
      "metadata": {
        "id": "ueinjX52tpWN",
        "colab_type": "text"
      },
      "source": [
        "The array position informs on the position of the agent: at (x, y), it has the value 1 if the agent is at the cell (x, y), -1 if (x, y) is near to a border of the grid (far from one cell to a border) and 0 otherwise.\n",
        "\n",
        "The array board informs on what is present on the cell: if (x, y) is composed of poison it will have the value -1 or of cheese it will have the value 0.5 (computed by bonus+malus). The array board is used to get the reward at each state of the grid."
      ]
    },
    {
      "cell_type": "markdown",
      "metadata": {
        "id": "II3iu3Q8tpWO",
        "colab_type": "text"
      },
      "source": [
        "## Random Agent"
      ]
    },
    {
      "cell_type": "markdown",
      "metadata": {
        "id": "CJ_Of2A0tpWP",
        "colab_type": "text"
      },
      "source": [
        "***\n",
        "__Question 3__ Implement a random Agent (only ```learned_act``` needs to be implemented):"
      ]
    },
    {
      "cell_type": "code",
      "metadata": {
        "id": "keUwGTHRtpWQ",
        "colab_type": "code",
        "colab": {}
      },
      "source": [
        "class RandomAgent(Agent):\n",
        "    def __init__(self):\n",
        "        super(RandomAgent, self).__init__()\n",
        "        pass\n",
        "\n",
        "    # Random Action as it is a Random Agent\n",
        "    def learned_act(self, s):\n",
        "        return(np.random.randint(0, self.n_action, size=1)[0])"
      ],
      "execution_count": 0,
      "outputs": []
    },
    {
      "cell_type": "markdown",
      "metadata": {
        "id": "Ni1kMc48tpWV",
        "colab_type": "text"
      },
      "source": [
        "***\n",
        "***\n",
        "__Question 4__ Visualize the game moves. You need to fill in the following function for the evaluation:"
      ]
    },
    {
      "cell_type": "code",
      "metadata": {
        "id": "2vzixzePtpWW",
        "colab_type": "code",
        "colab": {}
      },
      "source": [
        "def test(agent,env,epochs,prefix=''):\n",
        "    # Number of won games\n",
        "    score = 0\n",
        "        \n",
        "    for e in range(epochs):\n",
        "        # At each epoch, we restart to a fresh game and get the initial state\n",
        "        state = env.reset()\n",
        "        \n",
        "        # This assumes that the games will end\n",
        "        game_over = False\n",
        "\n",
        "        win = 0\n",
        "        lose = 0\n",
        "\n",
        "        while not game_over:\n",
        "            # The Random Agent performs a Random Action\n",
        "            action = agent.learned_act(state)\n",
        "\n",
        "            # Apply an action to the environment, get the next state, the reward\n",
        "            # and if the games end\n",
        "            prev_state = state\n",
        "            state, reward, game_over = env.act(action)\n",
        "\n",
        "            # Update the counters\n",
        "            if reward > 0:\n",
        "                win = win + reward\n",
        "            if reward < 0:\n",
        "                lose = lose - reward\n",
        "        \n",
        "        # Save as a mp4\n",
        "        env.draw(prefix+str(e))\n",
        "\n",
        "        # Update stats\n",
        "        score = score + win-lose\n",
        "\n",
        "        print(\"Win/lose count {}/{}. Average score ({})\"\n",
        "              .format(win, lose, score/(1+e)))\n",
        "    print('Final score: '+str(score/epochs))"
      ],
      "execution_count": 0,
      "outputs": []
    },
    {
      "cell_type": "code",
      "metadata": {
        "id": "tLtB7vP1tpWa",
        "colab_type": "code",
        "outputId": "f3909085-6d33-4d1d-97b6-002ab327749a",
        "colab": {
          "base_uri": "https://localhost:8080/",
          "height": 657
        }
      },
      "source": [
        "# Initialize the game\n",
        "env = Environment(grid_size=size, max_time=T,temperature=temperature)\n",
        "\n",
        "# Initialize the agent!\n",
        "agent = RandomAgent()\n",
        "\n",
        "test(agent,env,epochs_test,prefix='random')\n",
        "HTML(display_videos('random0.mp4'))"
      ],
      "execution_count": 9,
      "outputs": [
        {
          "output_type": "stream",
          "text": [
            "Win/lose count 7.0/6.0. Average score (1.0)\n",
            "Win/lose count 11.5/13.0. Average score (-0.25)\n",
            "Win/lose count 4.5/3.0. Average score (0.3333333333333333)\n",
            "Win/lose count 11.5/21.0. Average score (-2.125)\n",
            "Win/lose count 10.5/23.0. Average score (-4.2)\n",
            "Win/lose count 10.5/16.0. Average score (-4.416666666666667)\n",
            "Win/lose count 8.0/14.0. Average score (-4.642857142857143)\n",
            "Win/lose count 12.0/25.0. Average score (-5.6875)\n",
            "Win/lose count 10.0/12.0. Average score (-5.277777777777778)\n",
            "Win/lose count 9.5/14.0. Average score (-5.2)\n",
            "Win/lose count 8.5/15.0. Average score (-5.318181818181818)\n",
            "Win/lose count 11.0/19.0. Average score (-5.541666666666667)\n",
            "Win/lose count 15.0/6.0. Average score (-4.423076923076923)\n",
            "Win/lose count 10.5/11.0. Average score (-4.142857142857143)\n",
            "Win/lose count 10.5/10.0. Average score (-3.8333333333333335)\n",
            "Win/lose count 11.5/6.0. Average score (-3.25)\n",
            "Win/lose count 7.0/12.0. Average score (-3.3529411764705883)\n",
            "Win/lose count 6.5/17.0. Average score (-3.75)\n",
            "Win/lose count 12.0/16.0. Average score (-3.763157894736842)\n",
            "Win/lose count 10.5/12.0. Average score (-3.65)\n",
            "Final score: -3.65\n"
          ],
          "name": "stdout"
        },
        {
          "output_type": "execute_result",
          "data": {
            "text/html": [
              "<video alt=\"test\" controls>\n",
              "                <source src=\"data:video/mp4;base64,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\" type=\"video/mp4\" />\n",
              "             </video>"
            ],
            "text/plain": [
              "<IPython.core.display.HTML object>"
            ]
          },
          "metadata": {
            "tags": []
          },
          "execution_count": 9
        }
      ]
    },
    {
      "cell_type": "markdown",
      "metadata": {
        "id": "GIQDgZ45tpWg",
        "colab_type": "text"
      },
      "source": [
        "***\n",
        "## DQN"
      ]
    },
    {
      "cell_type": "markdown",
      "metadata": {
        "id": "D5EeNMf2tpWh",
        "colab_type": "text"
      },
      "source": [
        "Let us assume here that $T=\\infty$.\n",
        "\n",
        "***\n",
        "__Question 5__ Let $\\pi$ be a policy, show that:\n",
        "\n",
        "\\begin{equation*}\n",
        "Q^{\\pi}(s,a)=E_{(s',a')\\sim p(.|s,a)}[r(s,a)+\\gamma Q^{\\pi}(s',a')]\n",
        "\\end{equation*}\n",
        "\n",
        "Then, show that for the optimal policy $\\pi^*$ (we assume its existence), the following holds: \n",
        "\n",
        "\\begin{equation*}\n",
        "Q^{*}(s,a)=E_{s'\\sim \\pi^*(.|s,a)}[r(s,a)+\\gamma\\max_{a'}Q^{*}(s',a')].\n",
        "\\end{equation*}\n",
        "Finally, deduce that a plausible objective is:\n",
        "\n",
        "\\begin{equation*}\n",
        "\\mathcal{L}(\\theta)=E_{s' \\sim \\pi^*(.|s,a)}\\Vert r+\\gamma\\max\\max_{a'}Q(s',a',\\theta)-Q(s,a,\\theta)\\Vert^{2}.\n",
        "\\end{equation*}\n",
        "\n",
        "\n"
      ]
    },
    {
      "cell_type": "markdown",
      "metadata": {
        "id": "g_Lvud1ftpWi",
        "colab_type": "text"
      },
      "source": [
        "To prove the first equation, we know that:\n",
        "\\\begin{align*}
Q^\pi(s,a) & = E_{p^{\pi}}[\sum_{t\leq T}\gamma^{t}r(s_{t},a_{t})|s_{0}=s,a_{0}=a] \\
    & = r(s,a) + \gamma E_{p^{\pi}}[\sum_{t=0}^{\infty}\gamma^{t}r(s_{t+1},a_{t+1})|s_{0}=s,a_{0}=a] \\
    & = r(s,a) + \gamma E_{(s',a')\sim p(.|s,a)}[E_{p^{\pi}}[\sum_{t=0}^{\infty}\gamma^{t}r(s_{t},a_{t})|s_{0}=s',a_{0}=a']]\\
    & = r(s,a) + E_{(s',a')\sim p(.|s,a)}[\gamma Q^{\pi}(s',a')]\\
    & = E_{(s',a')\sim p(.|s,a)}[r(s,a) + \gamma Q^{\pi}(s',a')]
\end{align*}",
        "\n",
        "Now, we assume that an optimal policy $\\pi^*$ exists. We have:\n",
        "\\begin{align*}\n",
        "Q^*(s,a) & = \\max\\limits_{\\pi} Q^\\pi(s,a) \\\\ & = Q^{\\pi^*}(s,a) \\\\ & = E_{s'\\sim \\pi^*(.|s,a)}[r(s,a) + \\gamma Q^{\\pi^*}(s',a')]\n",
        "    \\\\ & = E_{s'\\sim p(.|s,a)}[r(s,a)+\\gamma\\max\\limits_{a'}Q^{*}(s',a')]\n",
        "\\end{align*}\n",
        "\n",
        "The equation that follows: $\\mathcal{L}(\\theta)=E_{s' \\sim \\pi^*(.|s,a)}\\Vert r+\\gamma\\max\\max_{a'}Q(s',a',\\theta)-Q(s,a,\\theta)\\Vert^{2}$ is obtained by minimizing the norm of the quantity obtained in the previous question: $Q^{*}(s,a)=E_{s'\\sim \\pi^*(.|s,a)}[r(s,a)+\\gamma\\max_{a'}Q^{*}(s',a')]$ which is equivalent to $E_{s'\\sim \\pi^*(.|s,a)}[r(s,a)+\\gamma\\max_{a'}Q^{*}(s',a')] - Q^{*}(s,a) = 0$"
      ]
    },
    {
      "cell_type": "markdown",
      "metadata": {
        "id": "r0RR_ruvtpWj",
        "colab_type": "text"
      },
      "source": [
        "***\n",
        "The DQN-learning algorithm relies on these derivations to train the parameters $\\theta$ of a Deep Neural Network:\n",
        "\n",
        "1. At the state $s_t$, select the action $a_t$ with best reward using $Q_t$ and store the results;\n",
        "\n",
        "2. Obtain the new state $s_{t+1}$ from the environment $p$;\n",
        "\n",
        "3. Store $(s_t,a_t,s_{t+1})$;\n",
        "\n",
        "4. Obtain $Q_{t+1}$ by minimizing  $\\mathcal{L}$ from a recovered batch from the previously stored results.\n",
        "\n",
        "***\n",
        "__Question 6__ Implement the class ```Memory``` that stores moves (in a replay buffer) via ```remember``` and provides a ```random_access``` to these. Specify a maximum memory size to avoid side effects. You can for example use a ```list()``` and set by default ```max_memory=100```."
      ]
    },
    {
      "cell_type": "code",
      "metadata": {
        "id": "yJLiD_Fxybb5",
        "colab_type": "code",
        "colab": {}
      },
      "source": [
        "class Memory(object):\n",
        "    def __init__(self, max_memory=100):\n",
        "        self.max_memory = max_memory\n",
        "        self.memory = list()\n",
        "\n",
        "    def remember(self, m):\n",
        "        if (len(self.memory) < self.max_memory):\n",
        "            self.memory.append(m)\n",
        "        else:\n",
        "            self.memory.pop(0)\n",
        "            self.memory.append(m)\n",
        "\n",
        "    def is_empty(self):\n",
        "        return(len(self.memory) == 0)\n",
        "\n",
        "    def random_access(self):\n",
        "        if self.is_empty():\n",
        "            return None\n",
        "        else:\n",
        "            return(self.memory[np.random.randint(0, len(self.memory), size=1)[0]])"
      ],
      "execution_count": 0,
      "outputs": []
    },
    {
      "cell_type": "markdown",
      "metadata": {
        "id": "BxioV6ERtpWo",
        "colab_type": "text"
      },
      "source": [
        "***\n",
        "The pipeline we will use for training is given below:"
      ]
    },
    {
      "cell_type": "code",
      "metadata": {
        "id": "VAYSwUjhtpWq",
        "colab_type": "code",
        "colab": {}
      },
      "source": [
        "def train(agent,env,epoch,prefix=''):\n",
        "    # Number of won games\n",
        "    score = 0\n",
        "    loss = 0\n",
        "\n",
        "    for e in range(epoch):\n",
        "        # At each epoch, we restart to a fresh game and get the initial state\n",
        "        state = env.reset()\n",
        "        # This assumes that the games will terminate\n",
        "        game_over = False\n",
        "\n",
        "        win = 0\n",
        "        lose = 0\n",
        "\n",
        "        while not game_over:\n",
        "            # The agent performs an action\n",
        "            action = agent.act(state)\n",
        "\n",
        "            # Apply an action to the environment, get the next state, the reward\n",
        "            # and if the games end\n",
        "            prev_state = state\n",
        "            state, reward, game_over = env.act(action)\n",
        "\n",
        "            # Update the counters\n",
        "            if reward > 0:\n",
        "                win = win + reward\n",
        "            if reward < 0:\n",
        "                lose = lose -reward\n",
        "\n",
        "            # Apply the reinforcement strategy\n",
        "            loss = agent.reinforce(prev_state, state,  action, reward, game_over)\n",
        "\n",
        "        # Save as a mp4\n",
        "        if e % 10 == 0:\n",
        "            env.draw(prefix+str(e))\n",
        "\n",
        "        # Update stats\n",
        "        score += win-lose\n",
        "\n",
        "        print(\"Epoch {:03d}/{:03d} | Loss {:.4f} | Win/lose count {}/{} ({})\"\n",
        "              .format(e, epoch, loss, win, lose, win-lose))\n",
        "        agent.save(name_weights=prefix+'model.h5',name_model=prefix+'model.json')"
      ],
      "execution_count": 0,
      "outputs": []
    },
    {
      "cell_type": "markdown",
      "metadata": {
        "id": "iwwmnGAbtpWt",
        "colab_type": "text"
      },
      "source": [
        "***\n",
        "__Question 7__ Implement the DQN training algorithm using a cascade of fully connected layers. You can use different learning rate, batch size or memory size parameters. In particular, the loss might oscillate while the player will start to win the games. You have to find a good criterium."
      ]
    },
    {
      "cell_type": "code",
      "metadata": {
        "id": "5AWNBfC7tpWu",
        "colab_type": "code",
        "colab": {}
      },
      "source": [
        "class DQN(Agent):\n",
        "    def __init__(self, grid_size,  epsilon = 0.1, memory_size=100, batch_size = 16,n_state=2):\n",
        "        super(DQN, self).__init__(epsilon = epsilon)\n",
        "\n",
        "        # Discount for Q learning\n",
        "        self.discount = 0.99\n",
        "        \n",
        "        self.grid_size = grid_size\n",
        "        \n",
        "        # number of state\n",
        "        self.n_state = n_state\n",
        "\n",
        "        # Memory\n",
        "        self.memory = Memory(memory_size)\n",
        "        \n",
        "        # Batch size when learning\n",
        "        self.batch_size = batch_size\n",
        "\n",
        "    def learned_act(self, s):\n",
        "        n, m, o = s.shape\n",
        "        s = s.reshape(1, n, m, o)\n",
        "        Q = self.model.predict(s)\n",
        "        return np.argmax(Q)\n",
        "    \n",
        "    def reinforce(self, s_, n_s_, a_, r_, game_over_):\n",
        "        # Two steps: first memorize the states, second learn from the pool\n",
        "        self.memory.remember([s_, n_s_, a_, r_, game_over_])\n",
        "        \n",
        "        input_states = np.zeros((self.batch_size, 5,5,self.n_state))\n",
        "        target_q = np.zeros((self.batch_size, 4))\n",
        "\n",
        "        next_states = np.zeros((self.batch_size, 5,5,self.n_state))\n",
        "        actions = []\n",
        "        rewards = []\n",
        "        L_game_over = []\n",
        "\n",
        "        for i in range(self.batch_size):\n",
        "            s_, n_s_, a_, r_, game_over_ = self.memory.random_access()\n",
        "            input_states[i] = s_\n",
        "            next_states[i] = n_s_\n",
        "            actions.append(a_)\n",
        "            rewards.append(r_)\n",
        "            L_game_over.append(game_over_)\n",
        "\n",
        "        target_q = self.model.predict(input_states)\n",
        "\n",
        "        for i in range(self.batch_size):\n",
        "            game_over_ = L_game_over[i]\n",
        "            a_ = actions[i]\n",
        "            r_ = rewards[i]\n",
        "            n, m, o = s_.shape\n",
        "            n_s_ = n_s_.reshape(1, n, m, o)\n",
        "            Q_star = self.model.predict(n_s_)\n",
        "            if game_over_:\n",
        "                target_q[i,a_] = r_\n",
        "            else:\n",
        "                target_q[i,a_] = r_ + self.discount * np.max(Q_star)\n",
        "        \n",
        "        # HINT: Clip the target to avoid exploiding gradients.. -- clipping is a bit tighter\n",
        "        target_q = np.clip(target_q, -3, 3)\n",
        "\n",
        "        l = self.model.train_on_batch(input_states, target_q)\n",
        "\n",
        "        return l\n",
        "    \n",
        "    def save(self,name_weights='model.h5',name_model='model.json'):\n",
        "        self.model.save_weights(name_weights, overwrite=True)\n",
        "        with open(name_model, \"w\") as outfile:\n",
        "            json.dump(self.model.to_json(), outfile)\n",
        "            \n",
        "    def load(self,name_weights='model.h5',name_model='model.json'):\n",
        "        with open(name_model, \"r\") as jfile:\n",
        "            model = model_from_json(json.load(jfile))\n",
        "        model.load_weights(name_weights)\n",
        "        model.compile(\"sgd\", \"mse\")\n",
        "        self.model = model\n",
        "\n",
        "            \n",
        "class DQN_FC(DQN):\n",
        "    def __init__(self, *args, lr=0.1,**kwargs):\n",
        "        super(DQN_FC, self).__init__( *args,**kwargs)\n",
        "        \n",
        "        # NN Model\n",
        "        model = Sequential()\n",
        "        model.add(keras.layers.Flatten(input_shape=(5, 5, self.n_state)))\n",
        "        model.add(Dense(units = 32, activation = 'relu'))\n",
        "        model.add(Dense(units = 16, activation = 'relu'))\n",
        "        model.add(Dense(self.n_action))\n",
        "        \n",
        "        model.compile(sgd(lr=lr, decay=1e-4, momentum=0.0), \"mse\")\n",
        "        self.model = model"
      ],
      "execution_count": 0,
      "outputs": []
    },
    {
      "cell_type": "code",
      "metadata": {
        "id": "4tfecFQCtpWz",
        "colab_type": "code",
        "outputId": "1d71758e-ca79-4b60-fa7d-62641af85f28",
        "colab": {
          "base_uri": "https://localhost:8080/",
          "height": 1000
        }
      },
      "source": [
        "env = Environment(grid_size=size, max_time=T, temperature=0.3)\n",
        "agent = DQN_FC(size, lr=.1, epsilon = 0.1, memory_size=2000, batch_size = 32)\n",
        "train(agent, env, epochs_train, prefix='fc_train')\n",
        "HTML(display_videos('fc_train10.mp4'))"
      ],
      "execution_count": 13,
      "outputs": [
        {
          "output_type": "stream",
          "text": [
            "WARNING:tensorflow:From /usr/local/lib/python3.6/dist-packages/keras/backend/tensorflow_backend.py:66: The name tf.get_default_graph is deprecated. Please use tf.compat.v1.get_default_graph instead.\n",
            "\n",
            "WARNING:tensorflow:From /usr/local/lib/python3.6/dist-packages/keras/backend/tensorflow_backend.py:541: The name tf.placeholder is deprecated. Please use tf.compat.v1.placeholder instead.\n",
            "\n",
            "WARNING:tensorflow:From /usr/local/lib/python3.6/dist-packages/keras/backend/tensorflow_backend.py:4432: The name tf.random_uniform is deprecated. Please use tf.random.uniform instead.\n",
            "\n",
            "WARNING:tensorflow:From /usr/local/lib/python3.6/dist-packages/keras/optimizers.py:793: The name tf.train.Optimizer is deprecated. Please use tf.compat.v1.train.Optimizer instead.\n",
            "\n",
            "WARNING:tensorflow:From /usr/local/lib/python3.6/dist-packages/keras/backend/tensorflow_backend.py:3005: The name tf.Session is deprecated. Please use tf.compat.v1.Session instead.\n",
            "\n",
            "WARNING:tensorflow:From /usr/local/lib/python3.6/dist-packages/keras/backend/tensorflow_backend.py:190: The name tf.get_default_session is deprecated. Please use tf.compat.v1.get_default_session instead.\n",
            "\n",
            "WARNING:tensorflow:From /usr/local/lib/python3.6/dist-packages/keras/backend/tensorflow_backend.py:197: The name tf.ConfigProto is deprecated. Please use tf.compat.v1.ConfigProto instead.\n",
            "\n",
            "WARNING:tensorflow:From /usr/local/lib/python3.6/dist-packages/keras/backend/tensorflow_backend.py:207: The name tf.global_variables is deprecated. Please use tf.compat.v1.global_variables instead.\n",
            "\n",
            "WARNING:tensorflow:From /usr/local/lib/python3.6/dist-packages/keras/backend/tensorflow_backend.py:216: The name tf.is_variable_initialized is deprecated. Please use tf.compat.v1.is_variable_initialized instead.\n",
            "\n",
            "WARNING:tensorflow:From /usr/local/lib/python3.6/dist-packages/keras/backend/tensorflow_backend.py:223: The name tf.variables_initializer is deprecated. Please use tf.compat.v1.variables_initializer instead.\n",
            "\n",
            "WARNING:tensorflow:From /usr/local/lib/python3.6/dist-packages/keras/backend/tensorflow_backend.py:1033: The name tf.assign_add is deprecated. Please use tf.compat.v1.assign_add instead.\n",
            "\n",
            "WARNING:tensorflow:From /usr/local/lib/python3.6/dist-packages/keras/backend/tensorflow_backend.py:1020: The name tf.assign is deprecated. Please use tf.compat.v1.assign instead.\n",
            "\n",
            "Epoch 000/100 | Loss 0.0060 | Win/lose count 5.0/8.0 (-3.0)\n",
            "Epoch 001/100 | Loss 0.0082 | Win/lose count 8.0/3.0 (5.0)\n",
            "Epoch 002/100 | Loss 0.0056 | Win/lose count 5.5/7.0 (-1.5)\n",
            "Epoch 003/100 | Loss 0.0107 | Win/lose count 1.5/3.0 (-1.5)\n",
            "Epoch 004/100 | Loss 0.0129 | Win/lose count 5.0/6.0 (-1.0)\n",
            "Epoch 005/100 | Loss 0.0055 | Win/lose count 1.5/2.0 (-0.5)\n",
            "Epoch 006/100 | Loss 0.0066 | Win/lose count 5.0/5.0 (0.0)\n",
            "Epoch 007/100 | Loss 0.0044 | Win/lose count 4.0/4.0 (0.0)\n",
            "Epoch 008/100 | Loss 0.0032 | Win/lose count 2.5/2.0 (0.5)\n",
            "Epoch 009/100 | Loss 0.0071 | Win/lose count 2.5/1.0 (1.5)\n",
            "Epoch 010/100 | Loss 0.0090 | Win/lose count 5.0/4.0 (1.0)\n",
            "Epoch 011/100 | Loss 0.0050 | Win/lose count 7.0/6.0 (1.0)\n",
            "Epoch 012/100 | Loss 0.0029 | Win/lose count 4.0/2.0 (2.0)\n",
            "Epoch 013/100 | Loss 0.0040 | Win/lose count 8.5/1.0 (7.5)\n",
            "Epoch 014/100 | Loss 0.0321 | Win/lose count 6.0/4.0 (2.0)\n",
            "Epoch 015/100 | Loss 0.0037 | Win/lose count 4.5/1.0 (3.5)\n",
            "Epoch 016/100 | Loss 0.0074 | Win/lose count 4.5/3.0 (1.5)\n",
            "Epoch 017/100 | Loss 0.0401 | Win/lose count 7.5/3.0 (4.5)\n",
            "Epoch 018/100 | Loss 0.0065 | Win/lose count 4.5/3.0 (1.5)\n",
            "Epoch 019/100 | Loss 0.0097 | Win/lose count 4.5/3.0 (1.5)\n",
            "Epoch 020/100 | Loss 0.0127 | Win/lose count 7.5/3.0 (4.5)\n",
            "Epoch 021/100 | Loss 0.0043 | Win/lose count 4.5/5.0 (-0.5)\n",
            "Epoch 022/100 | Loss 0.0533 | Win/lose count 5.5/4.0 (1.5)\n",
            "Epoch 023/100 | Loss 0.0029 | Win/lose count 5.5/5.0 (0.5)\n",
            "Epoch 024/100 | Loss 0.0086 | Win/lose count 6.0/1.0 (5.0)\n",
            "Epoch 025/100 | Loss 0.0040 | Win/lose count 5.5/2.0 (3.5)\n",
            "Epoch 026/100 | Loss 0.0024 | Win/lose count 5.0/2.0 (3.0)\n",
            "Epoch 027/100 | Loss 0.0637 | Win/lose count 5.5/4.0 (1.5)\n",
            "Epoch 028/100 | Loss 0.0031 | Win/lose count 3.0/10.0 (-7.0)\n",
            "Epoch 029/100 | Loss 0.0021 | Win/lose count 4.5/3.0 (1.5)\n",
            "Epoch 030/100 | Loss 0.0792 | Win/lose count 7.0/2.0 (5.0)\n",
            "Epoch 031/100 | Loss 0.0063 | Win/lose count 4.0/3.0 (1.0)\n",
            "Epoch 032/100 | Loss 0.0074 | Win/lose count 3.0/5.0 (-2.0)\n",
            "Epoch 033/100 | Loss 0.0027 | Win/lose count 11.0/4.0 (7.0)\n",
            "Epoch 034/100 | Loss 0.0062 | Win/lose count 2.0/2.0 (0.0)\n",
            "Epoch 035/100 | Loss 0.0303 | Win/lose count 7.5/3.0 (4.5)\n",
            "Epoch 036/100 | Loss 0.0093 | Win/lose count 3.5/3.0 (0.5)\n",
            "Epoch 037/100 | Loss 0.0056 | Win/lose count 6.5/4.0 (2.5)\n",
            "Epoch 038/100 | Loss 0.0348 | Win/lose count 3.0/4.0 (-1.0)\n",
            "Epoch 039/100 | Loss 0.0252 | Win/lose count 3.0/1.0 (2.0)\n",
            "Epoch 040/100 | Loss 0.0053 | Win/lose count 6.5/3.0 (3.5)\n",
            "Epoch 041/100 | Loss 0.0081 | Win/lose count 2.5/1.0 (1.5)\n",
            "Epoch 042/100 | Loss 0.0063 | Win/lose count 4.0/3.0 (1.0)\n",
            "Epoch 043/100 | Loss 0.0016 | Win/lose count 2.0/4.0 (-2.0)\n",
            "Epoch 044/100 | Loss 0.0054 | Win/lose count 1.0/1.0 (0.0)\n",
            "Epoch 045/100 | Loss 0.0016 | Win/lose count 6.0/7.0 (-1.0)\n",
            "Epoch 046/100 | Loss 0.0296 | Win/lose count 2.5/2.0 (0.5)\n",
            "Epoch 047/100 | Loss 0.0039 | Win/lose count 5.0/1.0 (4.0)\n",
            "Epoch 048/100 | Loss 0.0064 | Win/lose count 2.5/1.0 (1.5)\n",
            "Epoch 049/100 | Loss 0.0229 | Win/lose count 7.0/1.0 (6.0)\n",
            "Epoch 050/100 | Loss 0.0095 | Win/lose count 4.0/2.0 (2.0)\n",
            "Epoch 051/100 | Loss 0.0031 | Win/lose count 7.5/4.0 (3.5)\n",
            "Epoch 052/100 | Loss 0.0068 | Win/lose count 3.0/1.0 (2.0)\n",
            "Epoch 053/100 | Loss 0.0415 | Win/lose count 2.5/2.0 (0.5)\n",
            "Epoch 054/100 | Loss 0.0068 | Win/lose count 6.5/2.0 (4.5)\n",
            "Epoch 055/100 | Loss 0.0071 | Win/lose count 3.5/4.0 (-0.5)\n",
            "Epoch 056/100 | Loss 0.0031 | Win/lose count 7.0/2.0 (5.0)\n",
            "Epoch 057/100 | Loss 0.0074 | Win/lose count 8.0/4.0 (4.0)\n",
            "Epoch 058/100 | Loss 0.0064 | Win/lose count 5.5/2.0 (3.5)\n",
            "Epoch 059/100 | Loss 0.0046 | Win/lose count 3.5/3.0 (0.5)\n",
            "Epoch 060/100 | Loss 0.0018 | Win/lose count 6.5/4.0 (2.5)\n",
            "Epoch 061/100 | Loss 0.0149 | Win/lose count 4.0/2.0 (2.0)\n",
            "Epoch 062/100 | Loss 0.0054 | Win/lose count 5.0/4.0 (1.0)\n",
            "Epoch 063/100 | Loss 0.0561 | Win/lose count 2.5/5.0 (-2.5)\n",
            "Epoch 064/100 | Loss 0.0045 | Win/lose count 7.5/5.0 (2.5)\n",
            "Epoch 065/100 | Loss 0.0421 | Win/lose count 8.0/6.0 (2.0)\n",
            "Epoch 066/100 | Loss 0.0059 | Win/lose count 2.5/3.0 (-0.5)\n",
            "Epoch 067/100 | Loss 0.0421 | Win/lose count 3.5/1.0 (2.5)\n",
            "Epoch 068/100 | Loss 0.0022 | Win/lose count 5.0/4.0 (1.0)\n",
            "Epoch 069/100 | Loss 0.0091 | Win/lose count 4.5/0 (4.5)\n",
            "Epoch 070/100 | Loss 0.0164 | Win/lose count 4.0/1.0 (3.0)\n",
            "Epoch 071/100 | Loss 0.0045 | Win/lose count 5.5/2.0 (3.5)\n",
            "Epoch 072/100 | Loss 0.0053 | Win/lose count 5.5/4.0 (1.5)\n",
            "Epoch 073/100 | Loss 0.0055 | Win/lose count 5.0/0 (5.0)\n",
            "Epoch 074/100 | Loss 0.0031 | Win/lose count 5.5/6.0 (-0.5)\n",
            "Epoch 075/100 | Loss 0.0069 | Win/lose count 8.0/6.0 (2.0)\n",
            "Epoch 076/100 | Loss 0.0048 | Win/lose count 5.5/7.0 (-1.5)\n",
            "Epoch 077/100 | Loss 0.0429 | Win/lose count 4.5/2.0 (2.5)\n",
            "Epoch 078/100 | Loss 0.0075 | Win/lose count 2.5/3.0 (-0.5)\n",
            "Epoch 079/100 | Loss 0.0193 | Win/lose count 5.5/1.0 (4.5)\n",
            "Epoch 080/100 | Loss 0.0035 | Win/lose count 8.0/4.0 (4.0)\n",
            "Epoch 081/100 | Loss 0.0010 | Win/lose count 5.0/4.0 (1.0)\n",
            "Epoch 082/100 | Loss 0.0103 | Win/lose count 8.5/4.0 (4.5)\n",
            "Epoch 083/100 | Loss 0.0872 | Win/lose count 4.0/2.0 (2.0)\n",
            "Epoch 084/100 | Loss 0.0030 | Win/lose count 8.0/1.0 (7.0)\n",
            "Epoch 085/100 | Loss 0.0034 | Win/lose count 7.5/4.0 (3.5)\n",
            "Epoch 086/100 | Loss 0.0028 | Win/lose count 7.0/4.0 (3.0)\n",
            "Epoch 087/100 | Loss 0.0049 | Win/lose count 2.5/2.0 (0.5)\n",
            "Epoch 088/100 | Loss 0.0033 | Win/lose count 13.5/3.0 (10.5)\n",
            "Epoch 089/100 | Loss 0.0380 | Win/lose count 2.5/3.0 (-0.5)\n",
            "Epoch 090/100 | Loss 0.0461 | Win/lose count 6.0/4.0 (2.0)\n",
            "Epoch 091/100 | Loss 0.0030 | Win/lose count 4.0/3.0 (1.0)\n",
            "Epoch 092/100 | Loss 0.0027 | Win/lose count 5.0/3.0 (2.0)\n",
            "Epoch 093/100 | Loss 0.0038 | Win/lose count 5.0/2.0 (3.0)\n",
            "Epoch 094/100 | Loss 0.0309 | Win/lose count 14.0/5.0 (9.0)\n",
            "Epoch 095/100 | Loss 0.0030 | Win/lose count 14.0/4.0 (10.0)\n",
            "Epoch 096/100 | Loss 0.0059 | Win/lose count 10.0/2.0 (8.0)\n",
            "Epoch 097/100 | Loss 0.0025 | Win/lose count 6.0/3.0 (3.0)\n",
            "Epoch 098/100 | Loss 0.0505 | Win/lose count 8.0/2.0 (6.0)\n",
            "Epoch 099/100 | Loss 0.0150 | Win/lose count 7.0/2.0 (5.0)\n"
          ],
          "name": "stdout"
        },
        {
          "output_type": "execute_result",
          "data": {
            "text/html": [
              "<video alt=\"test\" controls>\n",
              "                <source src=\"data:video/mp4;base64,AAAAIGZ0eXBpc29tAAACAGlzb21pc28yYXZjMW1wNDEAAAAIZnJlZQAAFg5tZGF0AAACrQYF//+p3EXpvebZSLeWLNgg2SPu73gyNjQgLSBjb3JlIDE1MiByMjg1NCBlOWE1OTAzIC0gSC4yNjQvTVBFRy00IEFWQyBjb2RlYyAtIENvcHlsZWZ0IDIwMDMtMjAxNyAtIGh0dHA6Ly93d3cudmlkZW9sYW4ub3JnL3gyNjQuaHRtbCAtIG9wdGlvbnM6IGNhYmFjPTEgcmVmPTMgZGVibG9jaz0xOjA6MCBhbmFseXNlPTB4MToweDExMSBtZT1oZXggc3VibWU9NyBwc3k9MSBwc3lfcmQ9MS4wMDowLjAwIG1peGVkX3JlZj0xIG1lX3JhbmdlPTE2IGNocm9tYV9tZT0xIHRyZWxsaXM9MSA4eDhkY3Q9MCBjcW09MCBkZWFkem9uZT0yMSwxMSBmYXN0X3Bza2lwPTEgY2hyb21hX3FwX29mZnNldD00IHRocmVhZHM9MyBsb29rYWhlYWRfdGhyZWFkcz0xIHNsaWNlZF90aHJlYWRzPTAgbnI9MCBkZWNpbWF0ZT0xIGludGVybGFjZWQ9MCBibHVyYXlfY29tcGF0PTAgY29uc3RyYWluZWRfaW50cmE9MCBiZnJhbWVzPTMgYl9weXJhbWlkPTIgYl9hZGFwdD0xIGJfYmlhcz0wIGRpcmVjdD0xIHdlaWdodGI9MSBvcGVuX2dvcD0wIHdlaWdodHA9MiBrZXlpbnQ9MjUwIGtleWludF9taW49MjUgc2NlbmVjdXQ9NDAgaW50cmFfcmVmcmVzaD0wIHJjX2xvb2thaGVhZD00MCByYz1jcmYgbWJ0cmVlPTEgY3JmPTIzLjAgcWNvbXA9MC42MCBxcG1pbj0wIHFwbWF4PTY5IHFwc3RlcD00IGlwX3JhdGlvPTEuNDAgYXE9MToxLjAwAIAAAAKzZYiEADf//vaH+BTZWBP+Wb/9DX/cj9uPrP1xYyEE31qvIejAGS+1H+b/rFFs6Z6UB/fgCJQAc24ZwpJw4v/ApLdW+BTLYTnE+Uwo5XT/KBbJHQMxCOjSmWlprSxpUgJHzACRvUoGM9g3iV1hJ8rCYXxcQh8gDVJxaX95G/O9mVpXRcdvsRP+nAbi86QDwju5GemS9OliFECyOCH0p+nX2ZsN1qUynR0tgkfn6ATcrNG+4y9N8C0hrQd6fAZhVQHdAAADA7hbb5RP7vl3IJFHlt2AQpqVuHOPmOwzrKQggBvWXOwJizbcH14K7cSSmFlvm8aujRxXqyGig/q8EuD42swf6fg5wlfqaRZxuK6hwU+A+vSZHUOSCeE0oYr4wIcvxk/DQJhglIg6ctq2UD0jiT0w3lwWa7t6wAARSjj4LAf7xyKeqcc5P0aWfB8LO0mR+WRm+bdH0cPZkHuqNauosXMCu5OZIMwynqgbewhA2FJJlgMUadnK9weOlR9xlKMS6ko0IBR9IcNvbCQASyyRkpy6Ch/khZWIl1ynNnQZhbodh0+p9/z5hP+3VxjlJNAVrQH/c3icN7QXmtgxYogIMGfo37ZUG4wOT+VH61HNoQppp5IofSvuPY1+e5ML2tAFgsIUQHJXGCsDF+cPgdJlE49dD0ob7UmHr/hQxvt6dHffNP75sMTrzckuzwUA4lIQn+O5FSOs2zAQUncY4NNpEEcUM+8Y5DsjaLAJ4t2zqOzyFCumP6v2IL4EyFoRpCElhEXKO2kaPeWYuaOJPDAboAy3uOdQ0H621iofShy55JMDu0mbnmR+hyhf/UAMgE5KIFaunm/c1ncRlfGZXNe17e5RVoiGnzHTa/ufp08Afoh1ngsjuiiWEJuJV/mNm0RjGJfeww3yzxaICrq5qIdRNgAn4QAAABhBmiRsQz/+nhACnZvXEc/pHf37PdpjkkAAAAATQZ5CeIX/AGccIp2wPDH0zkIi4QAAAA8BnmF0Qr8AXROUKTbJVR8AAAAQAZ5jakK/AIrs8cr+3D6vQQAAABlBmmVJqEFomUwIb//+p4QAsGK0ghE/y20bAAAAGEGahknhClJlMCG//qeEALTitIIRP8ttEwAAABlBmqdJ4Q6JlMCHf/6plgCMIsN0YhHPr+LhAAAAHUGayUnhDyZTBRE8O//+qZYBBVHRAsz+1fHnznXcAAAAEAGe6GpCvwFssI8mB69s44AAAAAdQZrtSeEPJlMCHf/+qZYEeCzFpme+e8QgH99cZi0AAAAQQZ8LRRE8L/8BwyMluAiXgAAAAA8Bnyp0Qr8CXxhNg2S7UiYAAAARAZ8sakK/AnbEbNfdxLkkD/EAAAAbQZsxSahBaJlMCHf//qmWBJ+FHwfHirpOzC7hAAAAEEGfT0URLC//AcMfWJ3NNNEAAAAPAZ9udEK/Al3E37b3IqkTAAAADwGfcGpCvwJIah0JptBzQAAAABNBm3VJqEFsmUwId//+qZYAAJWBAAAADEGfk0UVLC//AACygAAAABABn7J0Qr8BdbR3R23wqPmAAAAADwGftGpCvwF1UaILUeXRswAAABNBm7lJqEFsmUwId//+qZYAAJWAAAAADEGf10UVLC//AACygQAAABABn/Z0Qr8BdbR3R23wqPmBAAAAEAGf+GpCvwJIahz+rw43nYAAAAAaQZv8SahBbJlMCHf//qmWARPZzrQ9X2qkmYEAAAAPQZ4aRRUsK/8BdWtw1llAAAAADQGeO2pCvwF15SLesssAAAAaQZo/SahBbJlMCHf//qmWASOllcZpf1ZElYEAAAAPQZ5dRRUsK/8BfyNA1lbAAAAADgGefmpCvwF6zk5EIaNSAAAAHkGaYkmoQWyZTAh3//6plgEzpZXGbUDc/nZqP1Yk4QAAABJBnoBFFSwr/wGJdW9hYL8skYAAAAAOAZ6hakK/AYl18ecEBI0AAAAZQZqmSahBbJlMCHf//qmWAJz9LoHD/Vs1IAAAABRBnsRFFSwv/wEe9BFKR0zld9KUHQAAABABnuN0Qr8Bk3k3lbKHo2/BAAAAEAGe5WpCvwGJduE3GfXpqDkAAAASQZrqSahBbJlMCG///qeEAAEnAAAAEEGfCEUVLC//AR70EWOAnzcAAAAQAZ8ndEK/AZN5N5Wyh6NvwAAAABABnylqQr8BiXbhNxn16ag5AAAAGUGbK0moQWyZTAh3//6plgFHCn4oVoQkb0AAAAAdQZtOSeEKUmUwId/+qZYG0mOWxoUfRvO4P+aE6YAAAAATQZ9sRTRMK/8Cr6ddw+zfMnjugQAAABABn41qQr8Crk+c6zPwTriBAAAAE0GbkkmoQWiZTAh3//6plgAAlYEAAAAMQZ+wRREsL/8AALKAAAAAEAGfz3RCvwGEzk4jsuyo7oAAAAAPAZ/RakK/AYTOTdZ6s9GfAAAAE0Gb1kmoQWyZTAh3//6plgAAlYAAAAAMQZ/0RRUsL/8AALKAAAAAEAGeE3RCvwGEzk4jsuyo7oEAAAAPAZ4VakK/AYTOTdZ6s9GfAAAAE0GaGkmoQWyZTAh3//6plgAAlYEAAAAMQZ44RRUsL/8AALKBAAAAEAGeV3RCvwGEzk4jsuyo7oAAAAAPAZ5ZakK/AYTOTdZ6s9GfAAAAE0GaXkmoQWyZTAh3//6plgAAlYAAAAAMQZ58RRUsL/8AALKBAAAAEAGem3RCvwGEzk4jsuyo7oEAAAAPAZ6dakK/AYTOTdZ6s9GfAAAAE0GagkmoQWyZTAh3//6plgAAlYAAAAAUQZ6gRRUsL/8BG4YPXUxD2+MqxZUAAAAQAZ7fdEK/AZN5N5Wyh6NvwAAAABABnsFqQr8BiXbhNxn16ag5AAAAEkGaxkmoQWyZTAhv//6nhAABJwAAAAxBnuRFFSwv/wAAsoEAAAAQAZ8DdEK/AYTOTiOy7KjugQAAAA8BnwVqQr8BhM5N1nqz0Z8AAAASQZsKSahBbJlMCG///qeEAAEnAAAADEGfKEUVLC//AACygAAAABABn0d0Qr8BhM5OI7LsqO6AAAAADwGfSWpCvwGEzk3WerPRnwAAABlBm01JqEFsmUwIZ//+nhAJJ3TYy5NkFYu4AAAAD0Gfa0UVLCv/AYkjQNZUwAAAAA0Bn4xqQr8BibEi3rKnAAAAGUGbjkmoQWyZTAhn//6eEAiniH9h4j6uU7sAAAAYQZuvSeEKUmUwIZ/+nhAEsEOP54L+SGUNAAAAGEGb0EnhDomUwIZ//p4QBLfiH9shj6whbQAAABlBm/FJ4Q8mUwIb//6nhADI+wf4Tgt0JHHAAAAAHEGaE0nhDyZTBRE8N//+p4QAzNg1IMy30T9CfSEAAAAQAZ4yakK/AKhY8tw2bUzqgAAAABlBmjRJ4Q8mUwIb//6nhAE8QBZtsRhfM0fAAAAAGUGaVUnhDyZTAh3//qmWAUdpCTa0hj7dNmEAAAAZQZp4SeEPJlMCHf/+qZYBTO0vC1BPzoSFgAAAABJBnpZFETwr/wKvp13bpE4Q1oEAAAAQAZ63akK/Aq5PnOsz8E64gQAAABNBmrxJqEFomUwId//+qZYAAJWAAAAADEGe2kURLC//AACygQAAABABnvl0Qr8BhM5OI7LsqO6AAAAADwGe+2pCvwGEzk3WerPRnwAAABJBmuBJqEFsmUwIb//+p4QAAScAAAAMQZ8eRRUsL/8AALKAAAAAEAGfPXRCvwGEzk4jsuyo7oAAAAAPAZ8/akK/AYTOTdZ6s9GfAAAAGkGbIUmoQWyZTAh3//6plgE376sqszayRI2AAAAAGkGbRUnhClJlMCHf/qmWBePSMz3U3aX1xl3BAAAAEEGfY0U0TC//AeqdB/zXmpAAAAAPAZ+CdEK/AX9JRCmCLK2BAAAADwGfhGpCvwKRYjyYDfcl0wAAABNBm4lJqEFomUwId//+qZYAAJWBAAAAEEGfp0URLC//AesSyfrG81MAAAAQAZ/GdEK/Ao/VoySp0ZLpgAAAAA8Bn8hqQr8CkWI8mA33JdMAAAAZQZvNSahBbJlMCHf//qmWBh9HPtqDaJjLuQAAABBBn+tFFSwv/wHp+79RbY+AAAAAEAGeCnRCvwKP1aMkqdGS6YAAAAAPAZ4MakK/AYkFjYHKbKmBAAAAE0GaEUmoQWyZTAh3//6plgAAlYEAAAAMQZ4vRRUsL/8AALKBAAAAEAGeTnRCvwGJeTdHbfCo7oAAAAAPAZ5QakK/AYkFjRK55dGfAAAAE0GaVUmoQWyZTAh3//6plgAAlYEAAAAMQZ5zRRUsL/8AALKAAAAAEAGeknRCvwGJeTdHbfCo7oAAAAAPAZ6UakK/AYkFjRK55dGfAAAAE0GamUmoQWyZTAh3//6plgAAlYAAAAAMQZ63RRUsL/8AALKBAAAAEAGe1nRCvwGJeTdHbfCo7oEAAAAPAZ7YakK/AXrOTdZ6s9GpAAAAE0Ga3UmoQWyZTAh3//6plgAAlYEAAAAMQZ77RRUsL/8AALKAAAAAEAGfGnRCvwGJeTdHbfCo7oEAAAAPAZ8cakK/AYkFjRK55dGfAAAAE0GbAUmoQWyZTAh3//6plgAAlYAAAAAMQZ8/RRUsL/8AALKAAAAAEAGfXnRCvwF6zk4jsuyo9IEAAAAPAZ9AakK/AYkFjRK55dGfAAAAE0GbRUmoQWyZTAh3//6plgAAlYEAAAAMQZ9jRRUsL/8AALKAAAAAEAGfgnRCvwGJeTdHbfCo7oEAAAAPAZ+EakK/AYkFjRK55dGfAAAAE0GbiUmoQWyZTAh3//6plgAAlYEAAAAMQZ+nRRUsL/8AALKBAAAAEAGfxnRCvwGJeTdHbfCo7oAAAAAPAZ/IakK/AYkFjRK55dGfAAAAE0GbzUmoQWyZTAh3//6plgAAlYEAAAAMQZ/rRRUsL/8AALKAAAAAEAGeCnRCvwGJeTdHbfCo7oAAAAAPAZ4MakK/AYkFjRK55dGfAAAAE0GaEUmoQWyZTAh3//6plgAAlYEAAAAMQZ4vRRUsL/8AALKBAAAAEAGeTnRCvwGJeTdHbfCo7oAAAAAPAZ5QakK/AYkFjRK55dGfAAAAE0GaVUmoQWyZTAh3//6plgAAlYEAAAAMQZ5zRRUsL/8AALKAAAAAEAGeknRCvwGJeTdHbfCo7oAAAAAPAZ6UakK/AYkFjRK55dGfAAAAE0GamUmoQWyZTAh3//6plgAAlYAAAAAMQZ63RRUsL/8AALKBAAAAEAGe1nRCvwGJeTdHbfCo7oEAAAAPAZ7YakK/AYkFjRK55dGfAAAAE0Ga3UmoQWyZTAh3//6plgAAlYEAAAAMQZ77RRUsL/8AALKAAAAAEAGfGnRCvwGJeTdHbfCo7oEAAAAPAZ8cakK/AYkFjRK55dGfAAAAE0GbAUmoQWyZTAh3//6plgAAlYAAAAAMQZ8/RRUsL/8AALKAAAAAEAGfXnRCvwGJeTdHbfCo7oEAAAAPAZ9AakK/AYkFjRK55dGfAAAAE0GbRUmoQWyZTAh3//6plgAAlYEAAAAMQZ9jRRUsL/8AALKAAAAAEAGfgnRCvwGJeTdHbfCo7oEAAAAPAZ+EakK/AYkFjRK55dGfAAAAE0GbiUmoQWyZTAh3//6plgAAlYEAAAAMQZ+nRRUsL/8AALKBAAAAEAGfxnRCvwGJeTdHbfCo7oAAAAAPAZ/IakK/AYkFjRK55dGfAAAAE0GbzUmoQWyZTAh3//6plgAAlYEAAAAMQZ/rRRUsL/8AALKAAAAAEAGeCnRCvwGJeTdHbfCo7oAAAAAPAZ4MakK/AYkFjRK55dGfAAAAE0GaEUmoQWyZTAh3//6plgAAlYEAAAAMQZ4vRRUsL/8AALKBAAAAEAGeTnRCvwGJeTdHbfCo7oAAAAAPAZ5QakK/AYkFjRK55dGfAAAAE0GaVUmoQWyZTAh3//6plgAAlYEAAAAMQZ5zRRUsL/8AALKAAAAAEAGeknRCvwGJeTdHbfCo7oAAAAAPAZ6UakK/AYkFjRK55dGfAAAAE0GamUmoQWyZTAh3//6plgAAlYAAAAAMQZ63RRUsL/8AALKBAAAAEAGe1nRCvwGJeTdHbfCo7oEAAAAPAZ7YakK/AYkFjRK55dGfAAAAE0Ga3UmoQWyZTAh3//6plgAAlYEAAAAMQZ77RRUsL/8AALKAAAAAEAGfGnRCvwGJeTdHbfCo7oEAAAAPAZ8cakK/AYkFjRK55dGfAAAAEkGbAUmoQWyZTAhv//6nhAABJwAAAAxBnz9FFSwv/wAAsoAAAAAQAZ9edEK/AYl5N0dt8KjugQAAAA8Bn0BqQr8BiQWNErnl0Z8AAAASQZtFSahBbJlMCGf//p4QAAR9AAAADEGfY0UVLC//AACygAAAABABn4J0Qr8BiXk3R23wqO6BAAAADwGfhGpCvwGJBY0SueXRnwAAABpBm4lLqEIQWyRGCCgH8gH9h4AhX/44QAARcQAAACNBn6dFFSwv/wIB3OpL2zMKuYDoGrWoXAlAGWiTwt8ykzScMQAAABABn8Z0Qr8BiXk3R23wqO6AAAAAJAGfyGpCvwKvY+1BxN2qw0kj8Q9rHJtCJrIGKv0pfLPy8EDIXgAADChtb292AAAAbG12aGQAAAAAAAAAAAAAAAAAAAPoAAAfkAABAAABAAAAAAAAAAAAAAAAAQAAAAAAAAAAAAAAAAAAAAEAAAAAAAAAAAAAAAAAAEAAAAAAAAAAAAAAAAAAAAAAAAAAAAAAAAAAAAAAAAACAAALUnRyYWsAAABcdGtoZAAAAAMAAAAAAAAAAAAAAAEAAAAAAAAfkAAAAAAAAAAAAAAAAAAAAAAAAQAAAAAAAAAAAAAAAAAAAAEAAAAAAAAAAAAAAAAAAEAAAAABEAAAARAAAAAAACRlZHRzAAAAHGVsc3QAAAAAAAAAAQAAH5AAAAQAAAEAAAAACsptZGlhAAAAIG1kaGQAAAAAAAAAAAAAAAAAADIAAAGUAFXEAAAAAAAtaGRscgAAAAAAAAAAdmlkZQAAAAAAAAAAAAAAAFZpZGVvSGFuZGxlcgAAAAp1bWluZgAAABR2bWhkAAAAAQAAAAAAAAAAAAAAJGRpbmYAAAAcZHJlZgAAAAAAAAABAAAADHVybCAAAAABAAAKNXN0YmwAAACVc3RzZAAAAAAAAAABAAAAhWF2YzEAAAAAAAAAAQAAAAAAAAAAAAAAAAAAAAABEAEQAEgAAABIAAAAAAAAAAEAAAAAAAAAAAAAAAAAAAAAAAAAAAAAAAAAAAAAAAAAAAAY//8AAAAvYXZjQwH0AA3/4QAXZ/QADZGbKCIR0IAAAAMAgAAAGQeKFMsBAAVo6+PESAAAABhzdHRzAAAAAAAAAAEAAADKAAACAAAAABRzdHNzAAAAAAAAAAEAAAABAAAGAGN0dHMAAAAAAAAAvgAAAAEAAAQAAAAAAQAACgAAAAABAAAEAAAAAAEAAAAAAAAAAQAAAgAAAAADAAAEAAAAAAEAAAYAAAAAAQAAAgAAAAABAAAKAAAAAAEAAAQAAAAAAQAAAAAAAAABAAACAAAAAAEAAAoAAAAAAQAABAAAAAABAAAAAAAAAAEAAAIAAAAAAQAACgAAAAABAAAEAAAAAAEAAAAAAAAAAQAAAgAAAAABAAAKAAAAAAEAAAQAAAAAAQAAAAAAAAABAAACAAAAAAEAAAgAAAAAAgAAAgAAAAABAAAIAAAAAAIAAAIAAAAAAQAACAAAAAACAAACAAAAAAEAAAoAAAAAAQAABAAAAAABAAAAAAAAAAEAAAIAAAAAAQAACgAAAAABAAAEAAAAAAEAAAAAAAAAAQAAAgAAAAABAAAEAAAAAAEAAAgAAAAAAgAAAgAAAAABAAAKAAAAAAEAAAQAAAAAAQAAAAAAAAABAAACAAAAAAEAAAoAAAAAAQAABAAAAAABAAAAAAAAAAEAAAIAAAAAAQAACgAAAAABAAAEAAAAAAEAAAAAAAAAAQAAAgAAAAABAAAKAAAAAAEAAAQAAAAAAQAAAAAAAAABAAACAAAAAAEAAAoAAAAAAQAABAAAAAABAAAAAAAAAAEAAAIAAAAAAQAACgAAAAABAAAEAAAAAAEAAAAAAAAAAQAAAgAAAAABAAAKAAAAAAEAAAQAAAAAAQAAAAAAAAABAAACAAAAAAEAAAgAAAAAAgAAAgAAAAAEAAAEAAAAAAEAAAYAAAAAAQAAAgAAAAACAAAEAAAAAAEAAAgAAAAAAgAAAgAAAAABAAAKAAAAAAEAAAQAAAAAAQAAAAAAAAABAAACAAAAAAEAAAoAAAAAAQAABAAAAAABAAAAAAAAAAEAAAIAAAAAAQAABAAAAAABAAAKAAAAAAEAAAQAAAAAAQAAAAAAAAABAAACAAAAAAEAAAoAAAAAAQAABAAAAAABAAAAAAAAAAEAAAIAAAAAAQAACgAAAAABAAAEAAAAAAEAAAAAAAAAAQAAAgAAAAABAAAKAAAAAAEAAAQAAAAAAQAAAAAAAAABAAACAAAAAAEAAAoAAAAAAQAABAAAAAABAAAAAAAAAAEAAAIAAAAAAQAACgAAAAABAAAEAAAAAAEAAAAAAAAAAQAAAgAAAAABAAAKAAAAAAEAAAQAAAAAAQAAAAAAAAABAAACAAAAAAEAAAoAAAAAAQAABAAAAAABAAAAAAAAAAEAAAIAAAAAAQAACgAAAAABAAAEAAAAAAEAAAAAAAAAAQAAAgAAAAABAAAKAAAAAAEAAAQAAAAAAQAAAAAAAAABAAACAAAAAAEAAAoAAAAAAQAABAAAAAABAAAAAAAAAAEAAAIAAAAAAQAACgAAAAABAAAEAAAAAAEAAAAAAAAAAQAAAgAAAAABAAAKAAAAAAEAAAQAAAAAAQAAAAAAAAABAAACAAAAAAEAAAoAAAAAAQAABAAAAAABAAAAAAAAAAEAAAIAAAAAAQAACgAAAAABAAAEAAAAAAEAAAAAAAAAAQAAAgAAAAABAAAKAAAAAAEAAAQAAAAAAQAAAAAAAAABAAACAAAAAAEAAAoAAAAAAQAABAAAAAABAAAAAAAAAAEAAAIAAAAAAQAACgAAAAABAAAEAAAAAAEAAAAAAAAAAQAAAgAAAAABAAAKAAAAAAEAAAQAAAAAAQAAAAAAAAABAAACAAAAAAEAAAoAAAAAAQAABAAAAAABAAAAAAAAAAEAAAIAAAAAAQAACgAAAAABAAAEAAAAAAEAAAAAAAAAAQAAAgAAAAABAAAKAAAAAAEAAAQAAAAAAQAAAAAAAAABAAACAAAAAAEAAAoAAAAAAQAABAAAAAABAAAAAAAAAAEAAAIAAAAAAQAACgAAAAABAAAEAAAAAAEAAAAAAAAAAQAAAgAAAAABAAAKAAAAAAEAAAQAAAAAAQAAAAAAAAABAAACAAAAAAEAAAoAAAAAAQAABAAAAAABAAAAAAAAAAEAAAIAAAAAHHN0c2MAAAAAAAAAAQAAAAEAAADKAAAAAQAAAzxzdHN6AAAAAAAAAAAAAADKAAAFaAAAABwAAAAXAAAAEwAAABQAAAAdAAAAHAAAAB0AAAAhAAAAFAAAACEAAAAUAAAAEwAAABUAAAAfAAAAFAAAABMAAAATAAAAFwAAABAAAAAUAAAAEwAAABcAAAAQAAAAFAAAABQAAAAeAAAAEwAAABEAAAAeAAAAEwAAABIAAAAiAAAAFgAAABIAAAAdAAAAGAAAABQAAAAUAAAAFgAAABQAAAAUAAAAFAAAAB0AAAAhAAAAFwAAABQAAAAXAAAAEAAAABQAAAATAAAAFwAAABAAAAAUAAAAEwAAABcAAAAQAAAAFAAAABMAAAAXAAAAEAAAABQAAAATAAAAFwAAABgAAAAUAAAAFAAAABYAAAAQAAAAFAAAABMAAAAWAAAAEAAAABQAAAATAAAAHQAAABMAAAARAAAAHQAAABwAAAAcAAAAHQAAACAAAAAUAAAAHQAAAB0AAAAdAAAAFgAAABQAAAAXAAAAEAAAABQAAAATAAAAFgAAABAAAAAUAAAAEwAAAB4AAAAeAAAAFAAAABMAAAATAAAAFwAAABQAAAAUAAAAEwAAAB0AAAAUAAAAFAAAABMAAAAXAAAAEAAAABQAAAATAAAAFwAAABAAAAAUAAAAEwAAABcAAAAQAAAAFAAAABMAAAAXAAAAEAAAABQAAAATAAAAFwAAABAAAAAUAAAAEwAAABcAAAAQAAAAFAAAABMAAAAXAAAAEAAAABQAAAATAAAAFwAAABAAAAAUAAAAEwAAABcAAAAQAAAAFAAAABMAAAAXAAAAEAAAABQAAAATAAAAFwAAABAAAAAUAAAAEwAAABcAAAAQAAAAFAAAABMAAAAXAAAAEAAAABQAAAATAAAAFwAAABAAAAAUAAAAEwAAABcAAAAQAAAAFAAAABMAAAAXAAAAEAAAABQAAAATAAAAFwAAABAAAAAUAAAAEwAAABcAAAAQAAAAFAAAABMAAAAXAAAAEAAAABQAAAATAAAAFwAAABAAAAAUAAAAEwAAABYAAAAQAAAAFAAAABMAAAAWAAAAEAAAABQAAAATAAAAHgAAACcAAAAUAAAAKAAAABRzdGNvAAAAAAAAAAEAAAAwAAAAYnVkdGEAAABabWV0YQAAAAAAAAAhaGRscgAAAAAAAAAAbWRpcmFwcGwAAAAAAAAAAAAAAAAtaWxzdAAAACWpdG9vAAAAHWRhdGEAAAABAAAAAExhdmY1Ny44My4xMDA=\" type=\"video/mp4\" />\n",
              "             </video>"
            ],
            "text/plain": [
              "<IPython.core.display.HTML object>"
            ]
          },
          "metadata": {
            "tags": []
          },
          "execution_count": 13
        }
      ]
    },
    {
      "cell_type": "markdown",
      "metadata": {
        "id": "T1MDHXWttpW5",
        "colab_type": "text"
      },
      "source": [
        "***\n",
        "***\n",
        "__Question 8__ Implement the DQN training algorithm using a CNN (for example, 2 convolutional layers and one final fully connected layer)."
      ]
    },
    {
      "cell_type": "code",
      "metadata": {
        "id": "q-zYV8q0tpW7",
        "colab_type": "code",
        "colab": {}
      },
      "source": [
        "class DQN_CNN(DQN):\n",
        "    def __init__(self, *args,lr=0.1,**kwargs):\n",
        "        super(DQN_CNN, self).__init__(*args,**kwargs)\n",
        "        \n",
        "        model = Sequential()\n",
        "        model.add(Conv2D(32, 2, activation = 'relu', input_shape=(5, 5, self.n_state)))\n",
        "        model.add(Conv2D(16, 2, activation='relu', input_shape=(5, 5, self.n_state)))\n",
        "        model.add(keras.layers.Flatten())\n",
        "        model.add(Dense(self.n_action))\n",
        "        \n",
        "        model.compile(sgd(lr=lr, decay=1e-4, momentum=0.0), \"mse\")\n",
        "        self.model = model"
      ],
      "execution_count": 0,
      "outputs": []
    },
    {
      "cell_type": "code",
      "metadata": {
        "id": "OZ9RPXUVtpXA",
        "colab_type": "code",
        "outputId": "5c980094-9bef-46f9-b067-0b41577ba5ec",
        "colab": {
          "base_uri": "https://localhost:8080/",
          "height": 1000
        }
      },
      "source": [
        "env = Environment(grid_size=size, max_time=T, temperature=0.3)\n",
        "agent = DQN_CNN(size, lr=.1, epsilon = 0.1, memory_size=2000, batch_size = 32)\n",
        "train(agent,env,epochs_train,prefix='cnn_train')\n",
        "HTML(display_videos('cnn_train10.mp4'))"
      ],
      "execution_count": 15,
      "outputs": [
        {
          "output_type": "stream",
          "text": [
            "Epoch 000/100 | Loss 0.0006 | Win/lose count 2.0/2.0 (0.0)\n",
            "Epoch 001/100 | Loss 0.0105 | Win/lose count 4.0/5.0 (-1.0)\n",
            "Epoch 002/100 | Loss 0.0070 | Win/lose count 7.0/4.0 (3.0)\n",
            "Epoch 003/100 | Loss 0.0482 | Win/lose count 3.0/1.0 (2.0)\n",
            "Epoch 004/100 | Loss 0.0018 | Win/lose count 3.5/1.0 (2.5)\n",
            "Epoch 005/100 | Loss 0.0019 | Win/lose count 4.5/8.0 (-3.5)\n",
            "Epoch 006/100 | Loss 0.0088 | Win/lose count 5.5/9.0 (-3.5)\n",
            "Epoch 007/100 | Loss 0.0061 | Win/lose count 2.0/1.0 (1.0)\n",
            "Epoch 008/100 | Loss 0.0156 | Win/lose count 7.0/2.0 (5.0)\n",
            "Epoch 009/100 | Loss 0.0093 | Win/lose count 4.5/2.0 (2.5)\n",
            "Epoch 010/100 | Loss 0.0093 | Win/lose count 5.0/3.0 (2.0)\n",
            "Epoch 011/100 | Loss 0.0044 | Win/lose count 13.5/6.0 (7.5)\n",
            "Epoch 012/100 | Loss 0.0064 | Win/lose count 9.0/0 (9.0)\n",
            "Epoch 013/100 | Loss 0.0047 | Win/lose count 4.0/6.0 (-2.0)\n",
            "Epoch 014/100 | Loss 0.0014 | Win/lose count 13.0/5.0 (8.0)\n",
            "Epoch 015/100 | Loss 0.0431 | Win/lose count 8.0/1.0 (7.0)\n",
            "Epoch 016/100 | Loss 0.0012 | Win/lose count 9.5/3.0 (6.5)\n",
            "Epoch 017/100 | Loss 0.0097 | Win/lose count 12.0/5.0 (7.0)\n",
            "Epoch 018/100 | Loss 0.0072 | Win/lose count 5.0/3.0 (2.0)\n",
            "Epoch 019/100 | Loss 0.0068 | Win/lose count 7.0/4.0 (3.0)\n",
            "Epoch 020/100 | Loss 0.0130 | Win/lose count 6.0/2.0 (4.0)\n",
            "Epoch 021/100 | Loss 0.0022 | Win/lose count 10.5/4.0 (6.5)\n",
            "Epoch 022/100 | Loss 0.0011 | Win/lose count 19.0/4.0 (15.0)\n",
            "Epoch 023/100 | Loss 0.0055 | Win/lose count 11.0/2.0 (9.0)\n",
            "Epoch 024/100 | Loss 0.0029 | Win/lose count 6.5/2.0 (4.5)\n",
            "Epoch 025/100 | Loss 0.1042 | Win/lose count 16.5/3.0 (13.5)\n",
            "Epoch 026/100 | Loss 0.0019 | Win/lose count 13.0/1.0 (12.0)\n",
            "Epoch 027/100 | Loss 0.0025 | Win/lose count 16.5/2.0 (14.5)\n",
            "Epoch 028/100 | Loss 0.0026 | Win/lose count 11.0/4.0 (7.0)\n",
            "Epoch 029/100 | Loss 0.0019 | Win/lose count 20.0/2.0 (18.0)\n",
            "Epoch 030/100 | Loss 0.0092 | Win/lose count 14.0/1.0 (13.0)\n",
            "Epoch 031/100 | Loss 0.0211 | Win/lose count 9.5/1.0 (8.5)\n",
            "Epoch 032/100 | Loss 0.0022 | Win/lose count 1.0/2.0 (-1.0)\n",
            "Epoch 033/100 | Loss 0.0032 | Win/lose count 13.5/4.0 (9.5)\n",
            "Epoch 034/100 | Loss 0.0011 | Win/lose count 9.5/2.0 (7.5)\n",
            "Epoch 035/100 | Loss 0.0040 | Win/lose count 6.0/3.0 (3.0)\n",
            "Epoch 036/100 | Loss 0.0015 | Win/lose count 18.5/2.0 (16.5)\n",
            "Epoch 037/100 | Loss 0.0018 | Win/lose count 11.5/4.0 (7.5)\n",
            "Epoch 038/100 | Loss 0.0021 | Win/lose count 8.0/5.0 (3.0)\n",
            "Epoch 039/100 | Loss 0.0058 | Win/lose count 11.0/1.0 (10.0)\n",
            "Epoch 040/100 | Loss 0.0012 | Win/lose count 11.5/2.0 (9.5)\n",
            "Epoch 041/100 | Loss 0.0505 | Win/lose count 15.5/7.0 (8.5)\n",
            "Epoch 042/100 | Loss 0.0011 | Win/lose count 6.0/5.0 (1.0)\n",
            "Epoch 043/100 | Loss 0.0039 | Win/lose count 17.5/2.0 (15.5)\n",
            "Epoch 044/100 | Loss 0.0059 | Win/lose count 8.0/4.0 (4.0)\n",
            "Epoch 045/100 | Loss 0.0020 | Win/lose count 14.5/9.0 (5.5)\n",
            "Epoch 046/100 | Loss 0.0139 | Win/lose count 6.0/1.0 (5.0)\n",
            "Epoch 047/100 | Loss 0.0667 | Win/lose count 10.0/8.0 (2.0)\n",
            "Epoch 048/100 | Loss 0.0387 | Win/lose count 8.5/5.0 (3.5)\n",
            "Epoch 049/100 | Loss 0.0008 | Win/lose count 5.0/2.0 (3.0)\n",
            "Epoch 050/100 | Loss 0.0036 | Win/lose count 20.0/4.0 (16.0)\n",
            "Epoch 051/100 | Loss 0.0030 | Win/lose count 16.5/3.0 (13.5)\n",
            "Epoch 052/100 | Loss 0.0014 | Win/lose count 9.0/3.0 (6.0)\n",
            "Epoch 053/100 | Loss 0.0014 | Win/lose count 12.5/1.0 (11.5)\n",
            "Epoch 054/100 | Loss 0.0133 | Win/lose count 9.5/2.0 (7.5)\n",
            "Epoch 055/100 | Loss 0.0030 | Win/lose count 15.0/1.0 (14.0)\n",
            "Epoch 056/100 | Loss 0.0012 | Win/lose count 12.0/1.0 (11.0)\n",
            "Epoch 057/100 | Loss 0.0004 | Win/lose count 11.0/4.0 (7.0)\n",
            "Epoch 058/100 | Loss 0.0029 | Win/lose count 17.5/4.0 (13.5)\n",
            "Epoch 059/100 | Loss 0.0007 | Win/lose count 7.5/3.0 (4.5)\n",
            "Epoch 060/100 | Loss 0.0086 | Win/lose count 12.5/2.0 (10.5)\n",
            "Epoch 061/100 | Loss 0.0016 | Win/lose count 18.0/5.0 (13.0)\n",
            "Epoch 062/100 | Loss 0.0009 | Win/lose count 16.0/5.0 (11.0)\n",
            "Epoch 063/100 | Loss 0.0017 | Win/lose count 21.0/7.0 (14.0)\n",
            "Epoch 064/100 | Loss 0.0005 | Win/lose count 9.5/5.0 (4.5)\n",
            "Epoch 065/100 | Loss 0.0023 | Win/lose count 5.5/0 (5.5)\n",
            "Epoch 066/100 | Loss 0.0572 | Win/lose count 13.5/4.0 (9.5)\n",
            "Epoch 067/100 | Loss 0.0018 | Win/lose count 8.0/3.0 (5.0)\n",
            "Epoch 068/100 | Loss 0.0595 | Win/lose count 11.0/3.0 (8.0)\n",
            "Epoch 069/100 | Loss 0.0578 | Win/lose count 8.0/1.0 (7.0)\n",
            "Epoch 070/100 | Loss 0.0078 | Win/lose count 6.0/0 (6.0)\n",
            "Epoch 071/100 | Loss 0.0011 | Win/lose count 6.5/3.0 (3.5)\n",
            "Epoch 072/100 | Loss 0.0007 | Win/lose count 9.0/3.0 (6.0)\n",
            "Epoch 073/100 | Loss 0.0067 | Win/lose count 16.0/2.0 (14.0)\n",
            "Epoch 074/100 | Loss 0.0014 | Win/lose count 7.0/6.0 (1.0)\n",
            "Epoch 075/100 | Loss 0.0194 | Win/lose count 6.5/2.0 (4.5)\n",
            "Epoch 076/100 | Loss 0.0009 | Win/lose count 5.0/2.0 (3.0)\n",
            "Epoch 077/100 | Loss 0.0113 | Win/lose count 10.5/5.0 (5.5)\n",
            "Epoch 078/100 | Loss 0.0501 | Win/lose count 14.0/2.0 (12.0)\n",
            "Epoch 079/100 | Loss 0.0590 | Win/lose count 6.0/3.0 (3.0)\n",
            "Epoch 080/100 | Loss 0.0009 | Win/lose count 10.5/1.0 (9.5)\n",
            "Epoch 081/100 | Loss 0.0020 | Win/lose count 2.5/3.0 (-0.5)\n",
            "Epoch 082/100 | Loss 0.0027 | Win/lose count 4.5/2.0 (2.5)\n",
            "Epoch 083/100 | Loss 0.0520 | Win/lose count 15.5/3.0 (12.5)\n",
            "Epoch 084/100 | Loss 0.0029 | Win/lose count 8.5/1.0 (7.5)\n",
            "Epoch 085/100 | Loss 0.0508 | Win/lose count 12.0/4.0 (8.0)\n",
            "Epoch 086/100 | Loss 0.0011 | Win/lose count 6.0/1.0 (5.0)\n",
            "Epoch 087/100 | Loss 0.0005 | Win/lose count 12.5/2.0 (10.5)\n",
            "Epoch 088/100 | Loss 0.0015 | Win/lose count 6.5/2.0 (4.5)\n",
            "Epoch 089/100 | Loss 0.0011 | Win/lose count 6.0/2.0 (4.0)\n",
            "Epoch 090/100 | Loss 0.0005 | Win/lose count 4.0/3.0 (1.0)\n",
            "Epoch 091/100 | Loss 0.0065 | Win/lose count 13.0/4.0 (9.0)\n",
            "Epoch 092/100 | Loss 0.0592 | Win/lose count 6.5/2.0 (4.5)\n",
            "Epoch 093/100 | Loss 0.0006 | Win/lose count 9.5/2.0 (7.5)\n",
            "Epoch 094/100 | Loss 0.0009 | Win/lose count 8.0/3.0 (5.0)\n",
            "Epoch 095/100 | Loss 0.0213 | Win/lose count 7.5/3.0 (4.5)\n",
            "Epoch 096/100 | Loss 0.0005 | Win/lose count 22.5/4.0 (18.5)\n",
            "Epoch 097/100 | Loss 0.0015 | Win/lose count 14.5/0 (14.5)\n",
            "Epoch 098/100 | Loss 0.0566 | Win/lose count 18.5/3.0 (15.5)\n",
            "Epoch 099/100 | Loss 0.0065 | Win/lose count 11.0/9.0 (2.0)\n"
          ],
          "name": "stdout"
        },
        {
          "output_type": "execute_result",
          "data": {
            "text/html": [
              "<video alt=\"test\" controls>\n",
              "                <source src=\"data:video/mp4;base64,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\" type=\"video/mp4\" />\n",
              "             </video>"
            ],
            "text/plain": [
              "<IPython.core.display.HTML object>"
            ]
          },
          "metadata": {
            "tags": []
          },
          "execution_count": 15
        }
      ]
    },
    {
      "cell_type": "markdown",
      "metadata": {
        "id": "051woXUotpXN",
        "colab_type": "text"
      },
      "source": [
        "***\n",
        "***\n",
        "__Question 9__ Test both algorithms and compare their performances. Which issue(s) do you observe? Observe also different behaviors by changing the temperature."
      ]
    },
    {
      "cell_type": "code",
      "metadata": {
        "id": "Y-5u4aBDtpXO",
        "colab_type": "code",
        "outputId": "c8b11504-b1ef-4366-a10d-328891a50560",
        "colab": {
          "base_uri": "https://localhost:8080/",
          "height": 799
        }
      },
      "source": [
        "env = Environment(grid_size=size, max_time=T,temperature=0.3)\n",
        "agent_cnn = DQN_CNN(size, lr=.1, epsilon = 0.1, memory_size=2000, batch_size = 32)\n",
        "agent_cnn.load(name_weights='cnn_trainmodel.h5',name_model='cnn_trainmodel.json')\n",
        "\n",
        "agent_fc = DQN_FC(size, lr=.1, epsilon = 0.1, memory_size=2000, batch_size = 32)\n",
        "agent_fc.load(name_weights='fc_trainmodel.h5',name_model='fc_trainmodel.json')\n",
        "print('Test of the CNN')\n",
        "test(agent_cnn,env,epochs_test,prefix='cnn_test')\n",
        "print(\"############################################\")\n",
        "print('Test of the FC')\n",
        "test(agent_fc,env,epochs_test,prefix='fc_test')"
      ],
      "execution_count": 16,
      "outputs": [
        {
          "output_type": "stream",
          "text": [
            "Test of the CNN\n",
            "Win/lose count 2.5/0. Average score (2.5)\n",
            "Win/lose count 4.0/0. Average score (3.25)\n",
            "Win/lose count 1.5/0. Average score (2.6666666666666665)\n",
            "Win/lose count 5.0/0. Average score (3.25)\n",
            "Win/lose count 2.0/0. Average score (3.0)\n",
            "Win/lose count 3.5/0. Average score (3.0833333333333335)\n",
            "Win/lose count 5.5/0. Average score (3.4285714285714284)\n",
            "Win/lose count 8.5/0. Average score (4.0625)\n",
            "Win/lose count 8.0/0. Average score (4.5)\n",
            "Win/lose count 13.0/0. Average score (5.35)\n",
            "Win/lose count 1.5/0. Average score (5.0)\n",
            "Win/lose count 3.5/0. Average score (4.875)\n",
            "Win/lose count 1.0/0. Average score (4.576923076923077)\n",
            "Win/lose count 1.5/0. Average score (4.357142857142857)\n",
            "Win/lose count 1.5/0. Average score (4.166666666666667)\n",
            "Win/lose count 17.0/0. Average score (4.96875)\n",
            "Win/lose count 9.0/0. Average score (5.205882352941177)\n",
            "Win/lose count 9.5/0. Average score (5.444444444444445)\n",
            "Win/lose count 12.5/0. Average score (5.815789473684211)\n",
            "Win/lose count 7.0/0. Average score (5.875)\n",
            "Final score: 5.875\n",
            "############################################\n",
            "Test of the FC\n",
            "Win/lose count 0.5/0. Average score (0.5)\n",
            "Win/lose count 0.5/0. Average score (0.5)\n",
            "Win/lose count 0/0. Average score (0.3333333333333333)\n",
            "Win/lose count 1.0/0. Average score (0.5)\n",
            "Win/lose count 1.5/0. Average score (0.7)\n",
            "Win/lose count 4.5/0. Average score (1.3333333333333333)\n",
            "Win/lose count 3.0/0. Average score (1.5714285714285714)\n",
            "Win/lose count 0/0. Average score (1.375)\n",
            "Win/lose count 1.0/0. Average score (1.3333333333333333)\n",
            "Win/lose count 0.5/0. Average score (1.25)\n",
            "Win/lose count 6.0/0. Average score (1.6818181818181819)\n",
            "Win/lose count 3.5/0. Average score (1.8333333333333333)\n",
            "Win/lose count 0.5/0. Average score (1.7307692307692308)\n",
            "Win/lose count 3.0/0. Average score (1.8214285714285714)\n",
            "Win/lose count 0.5/0. Average score (1.7333333333333334)\n",
            "Win/lose count 7.5/0. Average score (2.09375)\n",
            "Win/lose count 3.0/0. Average score (2.1470588235294117)\n",
            "Win/lose count 0.5/0. Average score (2.0555555555555554)\n",
            "Win/lose count 1.5/0. Average score (2.026315789473684)\n",
            "Win/lose count 0/0. Average score (1.925)\n",
            "Final score: 1.925\n"
          ],
          "name": "stdout"
        }
      ]
    },
    {
      "cell_type": "code",
      "metadata": {
        "id": "-0jpoacetpXV",
        "colab_type": "code",
        "outputId": "c6b2a18e-01ed-4e83-bd22-604f5b0c6b2a",
        "colab": {
          "base_uri": "https://localhost:8080/",
          "height": 293
        }
      },
      "source": [
        "HTML(display_videos('cnn_test10.mp4'))"
      ],
      "execution_count": 17,
      "outputs": [
        {
          "output_type": "execute_result",
          "data": {
            "text/html": [
              "<video alt=\"test\" controls>\n",
              "                <source src=\"data:video/mp4;base64,AAAAIGZ0eXBpc29tAAACAGlzb21pc28yYXZjMW1wNDEAAAAIZnJlZQAAFV5tZGF0AAACrQYF//+p3EXpvebZSLeWLNgg2SPu73gyNjQgLSBjb3JlIDE1MiByMjg1NCBlOWE1OTAzIC0gSC4yNjQvTVBFRy00IEFWQyBjb2RlYyAtIENvcHlsZWZ0IDIwMDMtMjAxNyAtIGh0dHA6Ly93d3cudmlkZW9sYW4ub3JnL3gyNjQuaHRtbCAtIG9wdGlvbnM6IGNhYmFjPTEgcmVmPTMgZGVibG9jaz0xOjA6MCBhbmFseXNlPTB4MToweDExMSBtZT1oZXggc3VibWU9NyBwc3k9MSBwc3lfcmQ9MS4wMDowLjAwIG1peGVkX3JlZj0xIG1lX3JhbmdlPTE2IGNocm9tYV9tZT0xIHRyZWxsaXM9MSA4eDhkY3Q9MCBjcW09MCBkZWFkem9uZT0yMSwxMSBmYXN0X3Bza2lwPTEgY2hyb21hX3FwX29mZnNldD00IHRocmVhZHM9MyBsb29rYWhlYWRfdGhyZWFkcz0xIHNsaWNlZF90aHJlYWRzPTAgbnI9MCBkZWNpbWF0ZT0xIGludGVybGFjZWQ9MCBibHVyYXlfY29tcGF0PTAgY29uc3RyYWluZWRfaW50cmE9MCBiZnJhbWVzPTMgYl9weXJhbWlkPTIgYl9hZGFwdD0xIGJfYmlhcz0wIGRpcmVjdD0xIHdlaWdodGI9MSBvcGVuX2dvcD0wIHdlaWdodHA9MiBrZXlpbnQ9MjUwIGtleWludF9taW49MjUgc2NlbmVjdXQ9NDAgaW50cmFfcmVmcmVzaD0wIHJjX2xvb2thaGVhZD00MCByYz1jcmYgbWJ0cmVlPTEgY3JmPTIzLjAgcWNvbXA9MC42MCBxcG1pbj0wIHFwbWF4PTY5IHFwc3RlcD00IGlwX3JhdGlvPTEuNDAgYXE9MToxLjAwAIAAAAMGZYiEADv//vb8/AptUwn/LZ/+iL/lb+9P2a61uFE7M7QacwPQC/3cd/Xi1bCrc27LcdG8bJkAU3Roif7wCe9n2YfhfPwKXAUD8CmkyOfvlW0mtuI8N+wo+3/eM55IlTovO7cYh2vPscn/uaDUC2rY5WqS5C+0DwB+u81xgssi/CDYEB5jXmsGMmF1iG78RqtUyCgIO2OaynAeCrpO69RS/Z+FYlnVH0QypETqeazvtBhwP4OZIPCaHAAAlCizhg6fBRwqUdRC531+Xw+X9Vj1aSmGdpJzBpl7v0W/MerwA5ITqKSlOUugdyEPC2tH8KBtK/H1Ieu2Lx3GEML5ZrlLYa1zbDGId+G3eCg+XpQMsYP8U7N2IMcFIKVinPn9o9BvTKiYmjjD252VHTxS/A2vIx6Y+Ba26uxKFHJwm7FMdHLJpVWUy5MO33efh+bPjhDsLtqohIOAAACJBHoaiZWAuDZjqbsX61cEpSAIV0mIHqtmRLeZE16UPxOP4KUbEkNJrcITNidsYkpW0/o/y7jhIDkoZ61DtQ5b23g2MJYibKn+Y+9Oz7aTCH/0G4Q2UYHg3F39f+Vgyvi7QA2DmD8K3UHgwXtY50j36xRD+n8eYPapRBiG1I9swjHIrR/ZfYmFz1eGumGzZIvWu6I6TWdyAaDjacie56ngigUc5BkJC+O6WSQJw/I/iBDQfWAkWDMdNF5awugDtBhv7s1xPKMlXk90rRAfZtKSoUUAKjBjpsn2cScyZsTcv2GDKouBRsQfQmK+CRZHPaEICnqstaXsXA7+ija7FnFyhtSb9/tKgG2h0t5D3eXt0M74j/oweLlxGtZOse3MxRFEBlHf969OIWo6lLgiUJJnFdaaAiGfjC+4uGwG52YA936Ji6JA0ZbFCZF/uvUTM8b0JkITNgRcuX+GdC0cYe3ffHHNRD46cka8LPCn3QDJZT1Dl9dyUcw8SzN6U/ptg4S4OkOzuwBKlJRqVS8SeIEgG6exDuX42HFBET8q9vKE5AwWQc5SwYY17m+AAAYtAAAAGkGaJGxDv/6plgADKT+xabib1fWj/yePN1quAAAAD0GeQniF/wADttGLtXKWQQAAAA8BnmF0Qr8ABPoxi4D87yAAAAAQAZ5jakK/AAUelG80xVuKwQAAABlBmmhJqEFomUwId//+qZYAAxVzpH99X3irAAAAEEGehkURLC//AAOf/FXkfuEAAAAQAZ6ldEK/AAT7NEifFmKhkQAAAA8BnqdqQr8ABPuVgXX+TMAAAAATQZqsSahBbJlMCHf//qmWAACVgAAAAAxBnspFFSwv/wAAsoEAAAAQAZ7pdEK/AATqyjvwAfdOQAAAABABnutqQr8ABOrKO9nj7pyAAAAAE0Ga8EmoQWyZTAh3//6plgAAlYEAAAAMQZ8ORRUsL/8AALKBAAAAEAGfLXRCvwAE6so78AH3TkEAAAAQAZ8vakK/AATqyjvZ4+6cgAAAABNBmzRJqEFsmUwId//+qZYAAJWAAAAADEGfUkUVLC//AACygQAAABABn3F0Qr8ABOrKO/AB905AAAAAEAGfc2pCvwAE6so72ePunIAAAAATQZt4SahBbJlMCHf//qmWAACVgQAAAAxBn5ZFFSwv/wAAsoAAAAAQAZ+1dEK/AATqyjvwAfdOQQAAABABn7dqQr8ABOrKO9nj7pyBAAAAE0GbvEmoQWyZTAh3//6plgAAlYAAAAAMQZ/aRRUsL/8AALKBAAAAEAGf+XRCvwAE6so78AH3TkAAAAAQAZ/7akK/AATqyjvZ4+6cgQAAABNBm+BJqEFsmUwId//+qZYAAJWBAAAADEGeHkUVLC//AACygAAAABABnj10Qr8ABOrKO/AB905AAAAAEAGeP2pCvwAE6so72ePunIEAAAATQZokSahBbJlMCHf//qmWAACVgAAAAAxBnkJFFSwv/wAAsoEAAAAQAZ5hdEK/AATqyjvwAfdOQAAAABABnmNqQr8ABOrKO9nj7pyBAAAAE0GaaEmoQWyZTAh3//6plgAAlYEAAAAMQZ6GRRUsL/8AALKBAAAAEAGepXRCvwAE6so78AH3TkEAAAAQAZ6nakK/AATqyjvZ4+6cgAAAABNBmqxJqEFsmUwId//+qZYAAJWAAAAADEGeykUVLC//AACygQAAABABnul0Qr8ABOrKO/AB905AAAAAEAGe62pCvwAE6so72ePunIAAAAATQZrwSahBbJlMCHf//qmWAACVgQAAAAxBnw5FFSwv/wAAsoEAAAAQAZ8tdEK/AATqyjvwAfdOQQAAABABny9qQr8ABOrKO9nj7pyAAAAAE0GbNEmoQWyZTAh3//6plgAAlYAAAAAMQZ9SRRUsL/8AALKBAAAAEAGfcXRCvwAE6so78AH3TkAAAAAQAZ9zakK/AATqyjvZ4+6cgAAAABNBm3hJqEFsmUwId//+qZYAAJWBAAAADEGflkUVLC//AACygAAAABABn7V0Qr8ABOrKO/AB905BAAAAEAGft2pCvwAE6so72ePunIEAAAATQZu8SahBbJlMCHf//qmWAACVgAAAAAxBn9pFFSwv/wAAsoEAAAAQAZ/5dEK/AATqyjvwAfdOQAAAABABn/tqQr8ABOrKO9nj7pyBAAAAE0Gb4EmoQWyZTAh3//6plgAAlYEAAAAMQZ4eRRUsL/8AALKAAAAAEAGePXRCvwAE6so78AH3TkAAAAAQAZ4/akK/AATqyjvZ4+6cgQAAABNBmiRJqEFsmUwId//+qZYAAJWAAAAADEGeQkUVLC//AACygQAAABABnmF0Qr8ABOrKO/AB905AAAAAEAGeY2pCvwAE6so72ePunIEAAAATQZpoSahBbJlMCHf//qmWAACVgQAAAAxBnoZFFSwv/wAAsoEAAAAQAZ6ldEK/AATqyjvwAfdOQQAAABABnqdqQr8ABOrKO9nj7pyAAAAAE0GarEmoQWyZTAh3//6plgAAlYAAAAAMQZ7KRRUsL/8AALKBAAAAEAGe6XRCvwAE6so78AH3TkAAAAAQAZ7rakK/AATqyjvZ4+6cgAAAABNBmvBJqEFsmUwId//+qZYAAJWBAAAADEGfDkUVLC//AACygQAAABABny10Qr8ABOrKO/AB905BAAAAEAGfL2pCvwAE6so72ePunIAAAAATQZs0SahBbJlMCHf//qmWAACVgAAAAAxBn1JFFSwv/wAAsoEAAAAQAZ9xdEK/AATqyjvwAfdOQAAAABABn3NqQr8ABOrKO9nj7pyAAAAAE0GbeEmoQWyZTAh3//6plgAAlYEAAAAMQZ+WRRUsL/8AALKAAAAAEAGftXRCvwAE6so78AH3TkEAAAAQAZ+3akK/AATqyjvZ4+6cgQAAABNBm7xJqEFsmUwId//+qZYAAJWAAAAADEGf2kUVLC//AACygQAAABABn/l0Qr8ABOrKO/AB905AAAAAEAGf+2pCvwAE6so72ePunIEAAAATQZvgSahBbJlMCHf//qmWAACVgQAAAAxBnh5FFSwv/wAAsoAAAAAQAZ49dEK/AATqyjvwAfdOQAAAABABnj9qQr8ABOrKO9nj7pyBAAAAE0GaJEmoQWyZTAh3//6plgAAlYAAAAAMQZ5CRRUsL/8AALKBAAAAEAGeYXRCvwAE6so78AH3TkAAAAAQAZ5jakK/AATqyjvZ4+6cgQAAABNBmmhJqEFsmUwId//+qZYAAJWBAAAADEGehkUVLC//AACygQAAABABnqV0Qr8ABOrKO/AB905BAAAAEAGep2pCvwAE6so72ePunIAAAAATQZqsSahBbJlMCHf//qmWAACVgAAAAAxBnspFFSwv/wAAsoEAAAAQAZ7pdEK/AATqyjvwAfdOQAAAABABnutqQr8ABOrKO9nj7pyAAAAAE0Ga8EmoQWyZTAh3//6plgAAlYEAAAAMQZ8ORRUsL/8AALKBAAAAEAGfLXRCvwAE6so78AH3TkEAAAAQAZ8vakK/AATqyjvZ4+6cgAAAABNBmzRJqEFsmUwId//+qZYAAJWAAAAADEGfUkUVLC//AACygQAAABABn3F0Qr8ABOrKO/AB905AAAAAEAGfc2pCvwAE6so72ePunIAAAAATQZt4SahBbJlMCHf//qmWAACVgQAAAAxBn5ZFFSwv/wAAsoAAAAAQAZ+1dEK/AATqyjvwAfdOQQAAABABn7dqQr8ABOrKO9nj7pyBAAAAE0GbvEmoQWyZTAh3//6plgAAlYAAAAAMQZ/aRRUsL/8AALKBAAAAEAGf+XRCvwAE6so78AH3TkAAAAAQAZ/7akK/AATqyjvZ4+6cgQAAABNBm+BJqEFsmUwId//+qZYAAJWBAAAADEGeHkUVLC//AACygAAAABABnj10Qr8ABOrKO/AB905AAAAAEAGeP2pCvwAE6so72ePunIEAAAATQZokSahBbJlMCHf//qmWAACVgAAAAAxBnkJFFSwv/wAAsoEAAAAQAZ5hdEK/AATqyjvwAfdOQAAAABABnmNqQr8ABOrKO9nj7pyBAAAAE0GaaEmoQWyZTAh3//6plgAAlYEAAAAMQZ6GRRUsL/8AALKBAAAAEAGepXRCvwAE6so78AH3TkEAAAAQAZ6nakK/AATqyjvZ4+6cgAAAABNBmqxJqEFsmUwId//+qZYAAJWAAAAADEGeykUVLC//AACygQAAABABnul0Qr8ABOrKO/AB905AAAAAEAGe62pCvwAE6so72ePunIAAAAATQZrwSahBbJlMCHf//qmWAACVgQAAAAxBnw5FFSwv/wAAsoEAAAAQAZ8tdEK/AATqyjvwAfdOQQAAABABny9qQr8ABOrKO9nj7pyAAAAAE0GbNEmoQWyZTAh3//6plgAAlYAAAAAMQZ9SRRUsL/8AALKBAAAAEAGfcXRCvwAE6so78AH3TkAAAAAQAZ9zakK/AATqyjvZ4+6cgAAAABNBm3hJqEFsmUwId//+qZYAAJWBAAAADEGflkUVLC//AACygAAAABABn7V0Qr8ABOrKO/AB905BAAAAEAGft2pCvwAE6so72ePunIEAAAATQZu8SahBbJlMCHf//qmWAACVgAAAAAxBn9pFFSwv/wAAsoEAAAAQAZ/5dEK/AATqyjvwAfdOQAAAABABn/tqQr8ABOrKO9nj7pyBAAAAE0Gb4EmoQWyZTAh3//6plgAAlYEAAAAMQZ4eRRUsL/8AALKAAAAAEAGePXRCvwAE6so78AH3TkAAAAAQAZ4/akK/AATqyjvZ4+6cgQAAABNBmiRJqEFsmUwId//+qZYAAJWAAAAADEGeQkUVLC//AACygQAAABABnmF0Qr8ABOrKO/AB905AAAAAEAGeY2pCvwAE6so72ePunIEAAAATQZpoSahBbJlMCHf//qmWAACVgQAAAAxBnoZFFSwv/wAAsoEAAAAQAZ6ldEK/AATqyjvwAfdOQQAAABABnqdqQr8ABOrKO9nj7pyAAAAAE0GarEmoQWyZTAh3//6plgAAlYAAAAAMQZ7KRRUsL/8AALKBAAAAEAGe6XRCvwAE6so78AH3TkAAAAAQAZ7rakK/AATqyjvZ4+6cgAAAABNBmvBJqEFsmUwId//+qZYAAJWBAAAADEGfDkUVLC//AACygQAAABABny10Qr8ABOrKO/AB905BAAAAEAGfL2pCvwAE6so72ePunIAAAAATQZs0SahBbJlMCHf//qmWAACVgAAAAAxBn1JFFSwv/wAAsoEAAAAQAZ9xdEK/AATqyjvwAfdOQAAAABABn3NqQr8ABOrKO9nj7pyAAAAAE0GbeEmoQWyZTAh3//6plgAAlYEAAAAMQZ+WRRUsL/8AALKAAAAAEAGftXRCvwAE6so78AH3TkEAAAAQAZ+3akK/AATqyjvZ4+6cgQAAABNBm7xJqEFsmUwId//+qZYAAJWAAAAADEGf2kUVLC//AACygQAAABABn/l0Qr8ABOrKO/AB905AAAAAEAGf+2pCvwAE6so72ePunIEAAAASQZvgSahBbJlMCG///qeEAAEnAAAADEGeHkUVLC//AACygAAAABABnj10Qr8ABOrKO/AB905AAAAAEAGeP2pCvwAE6so72ePunIEAAAASQZokSahBbJlMCG///qeEAAEnAAAADEGeQkUVLC//AACygQAAABABnmF0Qr8ABOrKO/AB905AAAAAEAGeY2pCvwAE6so72ePunIEAAAASQZpoSahBbJlMCF///oywAASNAAAADEGehkUVLC//AACygQAAABABnqV0Qr8ABOrKO/AB905BAAAAEAGep2pCvwAE6so72ePunIAAAAAaQZqpS6hCEFskRggoB/IB/YeAIV/+OEAAEXAAAAyIbW9vdgAAAGxtdmhkAAAAAAAAAAAAAAAAAAAD6AAAH5AAAQAAAQAAAAAAAAAAAAAAAAEAAAAAAAAAAAAAAAAAAAABAAAAAAAAAAAAAAAAAABAAAAAAAAAAAAAAAAAAAAAAAAAAAAAAAAAAAAAAAAAAgAAC7J0cmFrAAAAXHRraGQAAAADAAAAAAAAAAAAAAABAAAAAAAAH5AAAAAAAAAAAAAAAAAAAAAAAAEAAAAAAAAAAAAAAAAAAAABAAAAAAAAAAAAAAAAAABAAAAAARAAAAEQAAAAAAAkZWR0cwAAABxlbHN0AAAAAAAAAAEAAB+QAAAEAAABAAAAAAsqbWRpYQAAACBtZGhkAAAAAAAAAAAAAAAAAAAyAAABlABVxAAAAAAALWhkbHIAAAAAAAAAAHZpZGUAAAAAAAAAAAAAAABWaWRlb0hhbmRsZXIAAAAK1W1pbmYAAAAUdm1oZAAAAAEAAAAAAAAAAAAAACRkaW5mAAAAHGRyZWYAAAAAAAAAAQAAAAx1cmwgAAAAAQAACpVzdGJsAAAAlXN0c2QAAAAAAAAAAQAAAIVhdmMxAAAAAAAAAAEAAAAAAAAAAAAAAAAAAAAAARABEABIAAAASAAAAAAAAAABAAAAAAAAAAAAAAAAAAAAAAAAAAAAAAAAAAAAAAAAAAAAGP//AAAAL2F2Y0MB9AAN/+EAF2f0AA2RmygiEdCAAAADAIAAABkHihTLAQAFaOvjxEgAAAAYc3R0cwAAAAAAAAABAAAAygAAAgAAAAAUc3RzcwAAAAAAAAABAAAAAQAABmBjdHRzAAAAAAAAAMoAAAABAAAEAAAAAAEAAAoAAAAAAQAABAAAAAABAAAAAAAAAAEAAAIAAAAAAQAACgAAAAABAAAEAAAAAAEAAAAAAAAAAQAAAgAAAAABAAAKAAAAAAEAAAQAAAAAAQAAAAAAAAABAAACAAAAAAEAAAoAAAAAAQAABAAAAAABAAAAAAAAAAEAAAIAAAAAAQAACgAAAAABAAAEAAAAAAEAAAAAAAAAAQAAAgAAAAABAAAKAAAAAAEAAAQAAAAAAQAAAAAAAAABAAACAAAAAAEAAAoAAAAAAQAABAAAAAABAAAAAAAAAAEAAAIAAAAAAQAACgAAAAABAAAEAAAAAAEAAAAAAAAAAQAAAgAAAAABAAAKAAAAAAEAAAQAAAAAAQAAAAAAAAABAAACAAAAAAEAAAoAAAAAAQAABAAAAAABAAAAAAAAAAEAAAIAAAAAAQAACgAAAAABAAAEAAAAAAEAAAAAAAAAAQAAAgAAAAABAAAKAAAAAAEAAAQAAAAAAQAAAAAAAAABAAACAAAAAAEAAAoAAAAAAQAABAAAAAABAAAAAAAAAAEAAAIAAAAAAQAACgAAAAABAAAEAAAAAAEAAAAAAAAAAQAAAgAAAAABAAAKAAAAAAEAAAQAAAAAAQAAAAAAAAABAAACAAAAAAEAAAoAAAAAAQAABAAAAAABAAAAAAAAAAEAAAIAAAAAAQAACgAAAAABAAAEAAAAAAEAAAAAAAAAAQAAAgAAAAABAAAKAAAAAAEAAAQAAAAAAQAAAAAAAAABAAACAAAAAAEAAAoAAAAAAQAABAAAAAABAAAAAAAAAAEAAAIAAAAAAQAACgAAAAABAAAEAAAAAAEAAAAAAAAAAQAAAgAAAAABAAAKAAAAAAEAAAQAAAAAAQAAAAAAAAABAAACAAAAAAEAAAoAAAAAAQAABAAAAAABAAAAAAAAAAEAAAIAAAAAAQAACgAAAAABAAAEAAAAAAEAAAAAAAAAAQAAAgAAAAABAAAKAAAAAAEAAAQAAAAAAQAAAAAAAAABAAACAAAAAAEAAAoAAAAAAQAABAAAAAABAAAAAAAAAAEAAAIAAAAAAQAACgAAAAABAAAEAAAAAAEAAAAAAAAAAQAAAgAAAAABAAAKAAAAAAEAAAQAAAAAAQAAAAAAAAABAAACAAAAAAEAAAoAAAAAAQAABAAAAAABAAAAAAAAAAEAAAIAAAAAAQAACgAAAAABAAAEAAAAAAEAAAAAAAAAAQAAAgAAAAABAAAKAAAAAAEAAAQAAAAAAQAAAAAAAAABAAACAAAAAAEAAAoAAAAAAQAABAAAAAABAAAAAAAAAAEAAAIAAAAAAQAACgAAAAABAAAEAAAAAAEAAAAAAAAAAQAAAgAAAAABAAAKAAAAAAEAAAQAAAAAAQAAAAAAAAABAAACAAAAAAEAAAoAAAAAAQAABAAAAAABAAAAAAAAAAEAAAIAAAAAAQAACgAAAAABAAAEAAAAAAEAAAAAAAAAAQAAAgAAAAABAAAKAAAAAAEAAAQAAAAAAQAAAAAAAAABAAACAAAAAAEAAAoAAAAAAQAABAAAAAABAAAAAAAAAAEAAAIAAAAAAQAACgAAAAABAAAEAAAAAAEAAAAAAAAAAQAAAgAAAAABAAAKAAAAAAEAAAQAAAAAAQAAAAAAAAABAAACAAAAAAEAAAoAAAAAAQAABAAAAAABAAAAAAAAAAEAAAIAAAAAAQAACgAAAAABAAAEAAAAAAEAAAAAAAAAAQAAAgAAAAABAAAKAAAAAAEAAAQAAAAAAQAAAAAAAAABAAACAAAAAAEAAAoAAAAAAQAABAAAAAABAAAAAAAAAAEAAAIAAAAAAQAACgAAAAABAAAEAAAAAAEAAAAAAAAAAQAAAgAAAAABAAAKAAAAAAEAAAQAAAAAAQAAAAAAAAABAAACAAAAAAEAAAoAAAAAAQAABAAAAAABAAAAAAAAAAEAAAIAAAAAAQAACgAAAAABAAAEAAAAAAEAAAAAAAAAAQAAAgAAAAABAAAKAAAAAAEAAAQAAAAAAQAAAAAAAAABAAACAAAAAAEAAAoAAAAAAQAABAAAAAABAAAAAAAAAAEAAAIAAAAAAQAACgAAAAABAAAEAAAAAAEAAAAAAAAAAQAAAgAAAAABAAAEAAAAABxzdHNjAAAAAAAAAAEAAAABAAAAygAAAAEAAAM8c3RzegAAAAAAAAAAAAAAygAABbsAAAAeAAAAEwAAABMAAAAUAAAAHQAAABQAAAAUAAAAEwAAABcAAAAQAAAAFAAAABQAAAAXAAAAEAAAABQAAAAUAAAAFwAAABAAAAAUAAAAFAAAABcAAAAQAAAAFAAAABQAAAAXAAAAEAAAABQAAAAUAAAAFwAAABAAAAAUAAAAFAAAABcAAAAQAAAAFAAAABQAAAAXAAAAEAAAABQAAAAUAAAAFwAAABAAAAAUAAAAFAAAABcAAAAQAAAAFAAAABQAAAAXAAAAEAAAABQAAAAUAAAAFwAAABAAAAAUAAAAFAAAABcAAAAQAAAAFAAAABQAAAAXAAAAEAAAABQAAAAUAAAAFwAAABAAAAAUAAAAFAAAABcAAAAQAAAAFAAAABQAAAAXAAAAEAAAABQAAAAUAAAAFwAAABAAAAAUAAAAFAAAABcAAAAQAAAAFAAAABQAAAAXAAAAEAAAABQAAAAUAAAAFwAAABAAAAAUAAAAFAAAABcAAAAQAAAAFAAAABQAAAAXAAAAEAAAABQAAAAUAAAAFwAAABAAAAAUAAAAFAAAABcAAAAQAAAAFAAAABQAAAAXAAAAEAAAABQAAAAUAAAAFwAAABAAAAAUAAAAFAAAABcAAAAQAAAAFAAAABQAAAAXAAAAEAAAABQAAAAUAAAAFwAAABAAAAAUAAAAFAAAABcAAAAQAAAAFAAAABQAAAAXAAAAEAAAABQAAAAUAAAAFwAAABAAAAAUAAAAFAAAABcAAAAQAAAAFAAAABQAAAAXAAAAEAAAABQAAAAUAAAAFwAAABAAAAAUAAAAFAAAABcAAAAQAAAAFAAAABQAAAAXAAAAEAAAABQAAAAUAAAAFwAAABAAAAAUAAAAFAAAABcAAAAQAAAAFAAAABQAAAAXAAAAEAAAABQAAAAUAAAAFwAAABAAAAAUAAAAFAAAABcAAAAQAAAAFAAAABQAAAAXAAAAEAAAABQAAAAUAAAAFwAAABAAAAAUAAAAFAAAABYAAAAQAAAAFAAAABQAAAAWAAAAEAAAABQAAAAUAAAAFgAAABAAAAAUAAAAFAAAAB4AAAAUc3RjbwAAAAAAAAABAAAAMAAAAGJ1ZHRhAAAAWm1ldGEAAAAAAAAAIWhkbHIAAAAAAAAAAG1kaXJhcHBsAAAAAAAAAAAAAAAALWlsc3QAAAAlqXRvbwAAAB1kYXRhAAAAAQAAAABMYXZmNTcuODMuMTAw\" type=\"video/mp4\" />\n",
              "             </video>"
            ],
            "text/plain": [
              "<IPython.core.display.HTML object>"
            ]
          },
          "metadata": {
            "tags": []
          },
          "execution_count": 17
        }
      ]
    },
    {
      "cell_type": "code",
      "metadata": {
        "id": "u8Zg9U0_tpXb",
        "colab_type": "code",
        "outputId": "79913303-bc33-465b-abf7-be60af347873",
        "colab": {
          "base_uri": "https://localhost:8080/",
          "height": 293
        }
      },
      "source": [
        "HTML(display_videos('fc_test10.mp4'))"
      ],
      "execution_count": 18,
      "outputs": [
        {
          "output_type": "execute_result",
          "data": {
            "text/html": [
              "<video alt=\"test\" controls>\n",
              "                <source src=\"data:video/mp4;base64,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\" type=\"video/mp4\" />\n",
              "             </video>"
            ],
            "text/plain": [
              "<IPython.core.display.HTML object>"
            ]
          },
          "metadata": {
            "tags": []
          },
          "execution_count": 18
        }
      ]
    },
    {
      "cell_type": "code",
      "metadata": {
        "id": "VYzdJJhttpXl",
        "colab_type": "code",
        "outputId": "2e96fcfd-931e-46d6-9fa3-b066582ddc8f",
        "colab": {
          "base_uri": "https://localhost:8080/",
          "height": 1000
        }
      },
      "source": [
        "agent_cnn = DQN_CNN(size, lr=.1, epsilon = 0.1, memory_size=2000, batch_size = 32)\n",
        "agent_cnn.load(name_weights='cnn_trainmodel.h5',name_model='cnn_trainmodel.json')\n",
        "\n",
        "agent_fc = DQN_FC(size, lr=.1, epsilon = 0.1, memory_size=2000, batch_size = 32)\n",
        "agent_fc.load(name_weights='fc_trainmodel.h5',name_model='fc_trainmodel.json')\n",
        "\n",
        "L_temperature = [0.1, 0.3, 0.5, 0.7]\n",
        "for t in L_temperature:\n",
        "    print(\"############################################\")\n",
        "    print(\"############# Temperature \" + str(t) + \" ##############\")\n",
        "    print(\"############################################\")\n",
        "    env = Environment(grid_size=size, max_time=T,temperature=t)\n",
        "    print('Test of the CNN')\n",
        "    test(agent_cnn,env,epochs_test,prefix='cnn_test')\n",
        "    print(\"############################################\")\n",
        "    print('Test of the FC')\n",
        "    test(agent_fc,env,epochs_test,prefix='fc_test')"
      ],
      "execution_count": 19,
      "outputs": [
        {
          "output_type": "stream",
          "text": [
            "############################################\n",
            "############# Temperature 0.1 ##############\n",
            "############################################\n",
            "Test of the CNN\n",
            "Win/lose count 1.0/0. Average score (1.0)\n",
            "Win/lose count 1.0/0. Average score (1.0)\n",
            "Win/lose count 2.5/1.0. Average score (1.1666666666666667)\n",
            "Win/lose count 1.5/0. Average score (1.25)\n",
            "Win/lose count 3.0/0. Average score (1.6)\n",
            "Win/lose count 3.5/0. Average score (1.9166666666666667)\n",
            "Win/lose count 4.5/0. Average score (2.2857142857142856)\n",
            "Win/lose count 5.0/0. Average score (2.625)\n",
            "Win/lose count 0.5/0. Average score (2.388888888888889)\n",
            "Win/lose count 2.5/0. Average score (2.4)\n",
            "Win/lose count 1.0/0. Average score (2.272727272727273)\n",
            "Win/lose count 3.0/0. Average score (2.3333333333333335)\n",
            "Win/lose count 1.0/0. Average score (2.230769230769231)\n",
            "Win/lose count 3.5/0. Average score (2.3214285714285716)\n",
            "Win/lose count 2.0/0. Average score (2.3)\n",
            "Win/lose count 1.0/0. Average score (2.21875)\n",
            "Win/lose count 3.5/0. Average score (2.2941176470588234)\n",
            "Win/lose count 1.5/0. Average score (2.25)\n",
            "Win/lose count 2.5/0. Average score (2.263157894736842)\n",
            "Win/lose count 1.5/0. Average score (2.225)\n",
            "Final score: 2.225\n",
            "############################################\n",
            "Test of the FC\n",
            "Win/lose count 1.5/0. Average score (1.5)\n",
            "Win/lose count 1.0/0. Average score (1.25)\n",
            "Win/lose count 0.5/0. Average score (1.0)\n",
            "Win/lose count 1.5/0. Average score (1.125)\n",
            "Win/lose count 0.5/0. Average score (1.0)\n",
            "Win/lose count 0.5/0. Average score (0.9166666666666666)\n",
            "Win/lose count 4.5/0. Average score (1.4285714285714286)\n",
            "Win/lose count 0/0. Average score (1.25)\n",
            "Win/lose count 2.0/0. Average score (1.3333333333333333)\n",
            "Win/lose count 1.0/0. Average score (1.3)\n",
            "Win/lose count 0.5/0. Average score (1.2272727272727273)\n",
            "Win/lose count 0.5/0. Average score (1.1666666666666667)\n",
            "Win/lose count 1.5/0. Average score (1.1923076923076923)\n",
            "Win/lose count 0.5/0. Average score (1.1428571428571428)\n",
            "Win/lose count 2.0/0. Average score (1.2)\n",
            "Win/lose count 0.5/0. Average score (1.15625)\n",
            "Win/lose count 1.0/0. Average score (1.1470588235294117)\n",
            "Win/lose count 0.5/0. Average score (1.1111111111111112)\n",
            "Win/lose count 1.0/0. Average score (1.105263157894737)\n",
            "Win/lose count 0.5/0. Average score (1.075)\n",
            "Final score: 1.075\n",
            "############################################\n",
            "############# Temperature 0.3 ##############\n",
            "############################################\n",
            "Test of the CNN\n",
            "Win/lose count 3.5/0. Average score (3.5)\n",
            "Win/lose count 24.0/0. Average score (13.75)\n",
            "Win/lose count 3.5/0. Average score (10.333333333333334)\n",
            "Win/lose count 8.5/0. Average score (9.875)\n",
            "Win/lose count 4.5/0. Average score (8.8)\n",
            "Win/lose count 2.5/0. Average score (7.75)\n",
            "Win/lose count 8.5/0. Average score (7.857142857142857)\n",
            "Win/lose count 12.0/0. Average score (8.375)\n",
            "Win/lose count 4.0/0. Average score (7.888888888888889)\n",
            "Win/lose count 10.5/0. Average score (8.15)\n",
            "Win/lose count 8.5/0. Average score (8.181818181818182)\n",
            "Win/lose count 11.0/0. Average score (8.416666666666666)\n",
            "Win/lose count 7.5/0. Average score (8.346153846153847)\n",
            "Win/lose count 4.5/0. Average score (8.071428571428571)\n",
            "Win/lose count 5.0/0. Average score (7.866666666666666)\n",
            "Win/lose count 6.5/0. Average score (7.78125)\n",
            "Win/lose count 8.5/0. Average score (7.823529411764706)\n",
            "Win/lose count 9.5/0. Average score (7.916666666666667)\n",
            "Win/lose count 1.0/0. Average score (7.552631578947368)\n",
            "Win/lose count 0.5/0. Average score (7.2)\n",
            "Final score: 7.2\n",
            "############################################\n",
            "Test of the FC\n",
            "Win/lose count 1.5/0. Average score (1.5)\n",
            "Win/lose count 3.5/0. Average score (2.5)\n",
            "Win/lose count 1.5/1.0. Average score (1.8333333333333333)\n",
            "Win/lose count 0.5/0. Average score (1.5)\n",
            "Win/lose count 0/0. Average score (1.2)\n",
            "Win/lose count 0.5/0. Average score (1.0833333333333333)\n",
            "Win/lose count 1.5/0. Average score (1.1428571428571428)\n",
            "Win/lose count 2.0/0. Average score (1.25)\n",
            "Win/lose count 0/0. Average score (1.1111111111111112)\n",
            "Win/lose count 1.0/0. Average score (1.1)\n",
            "Win/lose count 4.0/0. Average score (1.3636363636363635)\n",
            "Win/lose count 2.5/0. Average score (1.4583333333333333)\n",
            "Win/lose count 2.5/0. Average score (1.5384615384615385)\n",
            "Win/lose count 2.0/0. Average score (1.5714285714285714)\n",
            "Win/lose count 1.5/0. Average score (1.5666666666666667)\n",
            "Win/lose count 2.5/0. Average score (1.625)\n",
            "Win/lose count 2.5/0. Average score (1.6764705882352942)\n",
            "Win/lose count 2.0/0. Average score (1.6944444444444444)\n",
            "Win/lose count 1.0/0. Average score (1.6578947368421053)\n",
            "Win/lose count 2.0/0. Average score (1.675)\n",
            "Final score: 1.675\n",
            "############################################\n",
            "############# Temperature 0.5 ##############\n",
            "############################################\n",
            "Test of the CNN\n",
            "Win/lose count 11.0/0. Average score (11.0)\n",
            "Win/lose count 12.5/0. Average score (11.75)\n",
            "Win/lose count 7.5/0. Average score (10.333333333333334)\n",
            "Win/lose count 15.0/2.0. Average score (11.0)\n",
            "Win/lose count 4.5/0. Average score (9.7)\n",
            "Win/lose count 1.0/0. Average score (8.25)\n",
            "Win/lose count 25.5/1.0. Average score (10.571428571428571)\n",
            "Win/lose count 26.5/1.0. Average score (12.4375)\n",
            "Win/lose count 14.5/0. Average score (12.666666666666666)\n",
            "Win/lose count 4.0/0. Average score (11.8)\n",
            "Win/lose count 7.0/0. Average score (11.363636363636363)\n",
            "Win/lose count 6.0/0. Average score (10.916666666666666)\n",
            "Win/lose count 18.0/1.0. Average score (11.384615384615385)\n",
            "Win/lose count 7.0/0. Average score (11.071428571428571)\n",
            "Win/lose count 6.0/0. Average score (10.733333333333333)\n",
            "Win/lose count 4.5/0. Average score (10.34375)\n",
            "Win/lose count 7.5/0. Average score (10.176470588235293)\n",
            "Win/lose count 19.5/0. Average score (10.694444444444445)\n",
            "Win/lose count 4.5/0. Average score (10.368421052631579)\n",
            "Win/lose count 8.5/0. Average score (10.275)\n",
            "Final score: 10.275\n",
            "############################################\n",
            "Test of the FC\n",
            "Win/lose count 9.0/0. Average score (9.0)\n",
            "Win/lose count 6.0/0. Average score (7.5)\n",
            "Win/lose count 6.0/0. Average score (7.0)\n",
            "Win/lose count 1.5/0. Average score (5.625)\n",
            "Win/lose count 4.0/0. Average score (5.3)\n",
            "Win/lose count 3.5/0. Average score (5.0)\n",
            "Win/lose count 1.5/0. Average score (4.5)\n",
            "Win/lose count 4.0/0. Average score (4.4375)\n",
            "Win/lose count 10.5/0. Average score (5.111111111111111)\n",
            "Win/lose count 4.5/0. Average score (5.05)\n",
            "Win/lose count 9.0/0. Average score (5.409090909090909)\n",
            "Win/lose count 1.0/0. Average score (5.041666666666667)\n",
            "Win/lose count 8.5/0. Average score (5.3076923076923075)\n",
            "Win/lose count 4.0/0. Average score (5.214285714285714)\n",
            "Win/lose count 7.5/0. Average score (5.366666666666666)\n",
            "Win/lose count 2.0/0. Average score (5.15625)\n",
            "Win/lose count 7.0/0. Average score (5.264705882352941)\n",
            "Win/lose count 8.0/0. Average score (5.416666666666667)\n",
            "Win/lose count 0.5/0. Average score (5.157894736842105)\n",
            "Win/lose count 2.5/0. Average score (5.025)\n",
            "Final score: 5.025\n",
            "############################################\n",
            "############# Temperature 0.7 ##############\n",
            "############################################\n",
            "Test of the CNN\n",
            "Win/lose count 47.5/0. Average score (47.5)\n",
            "Win/lose count 38.0/0. Average score (42.75)\n",
            "Win/lose count 12.5/0. Average score (32.666666666666664)\n",
            "Win/lose count 2.5/0. Average score (25.125)\n",
            "Win/lose count 16.0/0. Average score (23.3)\n",
            "Win/lose count 20.0/0. Average score (22.75)\n",
            "Win/lose count 26.0/1.0. Average score (23.071428571428573)\n",
            "Win/lose count 26.5/0. Average score (23.5)\n",
            "Win/lose count 5.0/1.0. Average score (21.333333333333332)\n",
            "Win/lose count 13.0/0. Average score (20.5)\n",
            "Win/lose count 26.0/1.0. Average score (20.90909090909091)\n",
            "Win/lose count 20.5/0. Average score (20.875)\n",
            "Win/lose count 31.5/0. Average score (21.692307692307693)\n",
            "Win/lose count 37.0/0. Average score (22.785714285714285)\n",
            "Win/lose count 4.0/0. Average score (21.533333333333335)\n",
            "Win/lose count 24.5/0. Average score (21.71875)\n",
            "Win/lose count 13.5/0. Average score (21.235294117647058)\n",
            "Win/lose count 11.0/0. Average score (20.666666666666668)\n",
            "Win/lose count 8.5/0. Average score (20.026315789473685)\n",
            "Win/lose count 19.5/1.0. Average score (19.95)\n",
            "Final score: 19.95\n",
            "############################################\n",
            "Test of the FC\n",
            "Win/lose count 2.0/0. Average score (2.0)\n",
            "Win/lose count 7.5/0. Average score (4.75)\n",
            "Win/lose count 8.5/2.0. Average score (5.333333333333333)\n",
            "Win/lose count 9.0/0. Average score (6.25)\n",
            "Win/lose count 7.5/0. Average score (6.5)\n",
            "Win/lose count 7.0/0. Average score (6.583333333333333)\n",
            "Win/lose count 6.5/0. Average score (6.571428571428571)\n",
            "Win/lose count 0.5/0. Average score (5.8125)\n",
            "Win/lose count 15.0/0. Average score (6.833333333333333)\n",
            "Win/lose count 0.5/0. Average score (6.2)\n",
            "Win/lose count 4.5/0. Average score (6.045454545454546)\n",
            "Win/lose count 11.0/1.0. Average score (6.375)\n",
            "Win/lose count 8.0/1.0. Average score (6.423076923076923)\n",
            "Win/lose count 12.5/0. Average score (6.857142857142857)\n",
            "Win/lose count 1.5/1.0. Average score (6.433333333333334)\n",
            "Win/lose count 5.0/0. Average score (6.34375)\n",
            "Win/lose count 7.5/0. Average score (6.411764705882353)\n",
            "Win/lose count 9.0/0. Average score (6.555555555555555)\n",
            "Win/lose count 1.5/0. Average score (6.2894736842105265)\n",
            "Win/lose count 14.5/2.0. Average score (6.6)\n",
            "Final score: 6.6\n"
          ],
          "name": "stdout"
        }
      ]
    },
    {
      "cell_type": "markdown",
      "metadata": {
        "id": "OH8VMj3utpXx",
        "colab_type": "text"
      },
      "source": [
        "We notice that the CNN architecture has a better performance when compared to the FC algorithm, and this, whatever the temperature's value is. Although, both algorithms did not explored all the environment at all and they both put an accent on the exploitation task.\n",
        "\n",
        "We remark that, as the value of the temperature is increased, the final score increases too, as the agent can collect more reward on more cells with a positive value."
      ]
    },
    {
      "cell_type": "markdown",
      "metadata": {
        "id": "CPd2LzqhtpX1",
        "colab_type": "text"
      },
      "source": [
        "***\n",
        "\n",
        "The algorithm tends to not explore the map which can be an issue. We propose two ideas in order to encourage exploration:\n",
        "1. Incorporating a decreasing $\\epsilon$-greedy exploration. You can use the method ```set_epsilon```\n",
        "2. Append via the environment a new state that describes if a cell has been visited or not\n",
        "\n",
        "***\n",
        "__Question 10__ Design a new ```train_explore``` function and environment class ```EnvironmentExploring``` to tackle the issue of exploration.\n",
        "\n"
      ]
    },
    {
      "cell_type": "code",
      "metadata": {
        "id": "VPyt23wdtpX7",
        "colab_type": "code",
        "colab": {}
      },
      "source": [
        "def train_explore(agent, env, epoch, prefix='', decreasing_epsilon=0.6):\n",
        "    # Number of won games\n",
        "    score = 0\n",
        "    loss = 0\n",
        "\n",
        "    for e in range(epoch):\n",
        "        # Incorporate decreasing eps greedy exploration\n",
        "        new_epsilon = decreasing_epsilon*agent.epsilon\n",
        "        agent.set_epsilon(new_epsilon)\n",
        "\n",
        "        # At each epoch, we restart to a fresh game and get the initial state\n",
        "        state = env.reset()\n",
        "\n",
        "        game_over = False\n",
        "\n",
        "        win = 0\n",
        "        lose = 0\n",
        "\n",
        "        while not game_over:\n",
        "            # The agent performs an action\n",
        "            action = agent.act(state)\n",
        "\n",
        "            # Apply an action on the environment\n",
        "            prev_state = state\n",
        "            # Get the next state, the reward and whether the game ends\n",
        "            state, reward, game_over = env.act(action, train=True)\n",
        "\n",
        "            # Update the counters\n",
        "            if reward > 0:\n",
        "                win += reward\n",
        "            if reward < 0:\n",
        "                lose -= reward\n",
        "\n",
        "            # Apply the reinforce algorithm\n",
        "            loss = agent.reinforce(prev_state, state,  action, reward, game_over)\n",
        "\n",
        "        # Save as a mp4\n",
        "        if e % 10 == 0:\n",
        "            env.draw(prefix+str(e))\n",
        "\n",
        "        # Update stats\n",
        "        score += win - lose\n",
        "\n",
        "        print(\"Epoch {:03d}/{:03d} | Loss {:.4f} | Win/lose count {}/{} ({})\"\n",
        "              .format(e, epoch, loss, win, lose, win-lose))\n",
        "        agent.save(name_weights=prefix+'model.h5',name_model=prefix+'model.json')\n",
        "        \n",
        "class EnvironmentExploring(Environment):\n",
        "    def __init__(self, grid_size=10, max_time=500, temperature=0.1):\n",
        "        super(EnvironmentExploring, self).__init__(grid_size, max_time, temperature)\n",
        "        \n",
        "        self.malus_position = np.zeros((self.grid_size, self.grid_size))\n",
        "\n",
        "    def act(self, action, train=False):\n",
        "        self.get_frame(int(self.t))\n",
        "\n",
        "        self.position = np.zeros((self.grid_size, self.grid_size))\n",
        "\n",
        "        self.position[0:2,:]= -1\n",
        "        self.position[:,0:2] = -1\n",
        "        self.position[-2:, :] = -1\n",
        "        self.position[:, -2:] = -1\n",
        "\n",
        "        self.position[self.x, self.y] = 1\n",
        "        if action == 0:\n",
        "            if self.x == self.grid_size-3:\n",
        "                self.x = self.x-1\n",
        "            else:\n",
        "                self.x = self.x + 1\n",
        "        elif action == 1:\n",
        "            if self.x == 2:\n",
        "                self.x = self.x+1\n",
        "            else:\n",
        "                self.x = self.x-1\n",
        "        elif action == 2:\n",
        "            if self.y == self.grid_size - 3:\n",
        "                self.y = self.y - 1\n",
        "            else:\n",
        "                self.y = self.y + 1\n",
        "        elif action == 3:\n",
        "            if self.y == 2:\n",
        "                self.y = self.y + 1\n",
        "            else:\n",
        "                self.y = self.y - 1\n",
        "        else:\n",
        "            RuntimeError('Error: action not recognized')\n",
        "        \n",
        "        self.t = self.t + 1\n",
        "        reward = 0\n",
        "        if train:\n",
        "            reward = -self.malus_position[self.x, self.y]\n",
        "        self.malus_position[self.x, self.y] = 0.1\n",
        "        reward = reward + self.board[self.x, self.y]\n",
        "        self.board[self.x, self.y] = 0\n",
        "        game_over = self.t > self.max_time\n",
        "        state = np.concatenate((self.malus_position.reshape(self.grid_size, self.grid_size,1),\n",
        "                        self.board.reshape(self.grid_size, self.grid_size,1),\n",
        "                        self.position.reshape(self.grid_size, self.grid_size,1)),axis=2)\n",
        "        state = state[self.x-2:self.x+3,self.y-2:self.y+3,:]\n",
        "\n",
        "        return state, reward, game_over\n",
        "        \n",
        "\n",
        "    def reset(self):\n",
        "        self.x = np.random.randint(3, self.grid_size-3, size=1)[0]\n",
        "        self.y = np.random.randint(3, self.grid_size-3, size=1)[0]\n",
        "        \n",
        "        self.malus_position = np.zeros((self.grid_size, self.grid_size))\n",
        "\n",
        "        bonus = 0.5*np.random.binomial(1,self.temperature,size=self.grid_size**2)\n",
        "        bonus = bonus.reshape(self.grid_size,self.grid_size)\n",
        "\n",
        "        malus = -1.0*np.random.binomial(1,self.temperature,size=self.grid_size**2)\n",
        "        malus = malus.reshape(self.grid_size, self.grid_size)\n",
        "\n",
        "        self.to_draw = np.zeros((self.max_time+2, self.grid_size*self.scale, self.grid_size*self.scale, 3))\n",
        "\n",
        "        malus[bonus>0]=0\n",
        "\n",
        "        self.board = bonus + malus\n",
        "\n",
        "        self.position = np.zeros((self.grid_size, self.grid_size))\n",
        "        self.position[0:2,:]= -1\n",
        "        self.position[:,0:2] = -1\n",
        "        self.position[-2:, :] = -1\n",
        "        self.position[:, -2:] = -1\n",
        "        # self.position[-2:, :] = -1\n",
        "        self.board[self.x,self.y] = 0\n",
        "        self.t = 0\n",
        "\n",
        "        state = np.concatenate((self.malus_position.reshape(self.grid_size, self.grid_size,1),\n",
        "                               self.board.reshape(self.grid_size, self.grid_size,1),\n",
        "                        self.position.reshape(self.grid_size, self.grid_size,1)),axis=2)\n",
        "\n",
        "        state = state[self.x - 2:self.x + 3, self.y - 2:self.y + 3, :]\n",
        "        return state"
      ],
      "execution_count": 0,
      "outputs": []
    },
    {
      "cell_type": "code",
      "metadata": {
        "id": "dhS4dCbBtpYD",
        "colab_type": "code",
        "colab": {
          "base_uri": "https://localhost:8080/",
          "height": 1000
        },
        "outputId": "61466934-10be-496f-9097-bf3fa8202e40"
      },
      "source": [
        "# Training\n",
        "env = EnvironmentExploring(grid_size=size, max_time=T, temperature=0.3)\n",
        "agent = DQN_CNN(size, lr=.1, epsilon = 0.3, memory_size=2000, batch_size = 32,n_state=3)\n",
        "train_explore(agent, env, epochs_train, prefix='cnn_train_explore')\n",
        "HTML(display_videos('cnn_train_explore10.mp4'))"
      ],
      "execution_count": 21,
      "outputs": [
        {
          "output_type": "stream",
          "text": [
            "Epoch 000/100 | Loss 0.0059 | Win/lose count 10.0/22.700000000000063 (-12.700000000000063)\n",
            "Epoch 001/100 | Loss 0.0132 | Win/lose count 7.0/22.700000000000067 (-15.700000000000067)\n",
            "Epoch 002/100 | Loss 0.0118 | Win/lose count 0.5/20.20000000000002 (-19.70000000000002)\n",
            "Epoch 003/100 | Loss 0.0073 | Win/lose count 3.0/19.1 (-16.1)\n",
            "Epoch 004/100 | Loss 0.0632 | Win/lose count 6.5/17.59999999999998 (-11.09999999999998)\n",
            "Epoch 005/100 | Loss 0.0036 | Win/lose count 3.0/19.400000000000006 (-16.400000000000006)\n",
            "Epoch 006/100 | Loss 0.0078 | Win/lose count 7.5/17.099999999999977 (-9.599999999999977)\n",
            "Epoch 007/100 | Loss 0.0204 | Win/lose count 4.0/19.500000000000007 (-15.500000000000007)\n",
            "Epoch 008/100 | Loss 0.0057 | Win/lose count 2.0/19.1 (-17.1)\n",
            "Epoch 009/100 | Loss 0.0033 | Win/lose count 13.0/14.499999999999968 (-1.499999999999968)\n",
            "Epoch 010/100 | Loss 0.0071 | Win/lose count 12.0/15.69999999999996 (-3.69999999999996)\n",
            "Epoch 011/100 | Loss 0.0024 | Win/lose count 21.5/13.499999999999972 (8.000000000000028)\n",
            "Epoch 012/100 | Loss 0.0341 | Win/lose count 1.5/19.300000000000004 (-17.800000000000004)\n",
            "Epoch 013/100 | Loss 0.0036 | Win/lose count 13.0/15.79999999999996 (-2.79999999999996)\n",
            "Epoch 014/100 | Loss 0.0104 | Win/lose count 3.5/18.9 (-15.399999999999999)\n",
            "Epoch 015/100 | Loss 0.0501 | Win/lose count 6.0/18.499999999999993 (-12.499999999999993)\n",
            "Epoch 016/100 | Loss 0.0018 | Win/lose count 8.5/16.99999999999997 (-8.499999999999972)\n",
            "Epoch 017/100 | Loss 0.0264 | Win/lose count 7.0/18.399999999999995 (-11.399999999999995)\n",
            "Epoch 018/100 | Loss 0.0039 | Win/lose count 6.0/18.09999999999999 (-12.09999999999999)\n",
            "Epoch 019/100 | Loss 0.0047 | Win/lose count 6.0/17.099999999999977 (-11.099999999999977)\n",
            "Epoch 020/100 | Loss 0.0101 | Win/lose count 16.5/15.199999999999967 (1.3000000000000327)\n",
            "Epoch 021/100 | Loss 0.0055 | Win/lose count 11.0/15.299999999999962 (-4.299999999999962)\n",
            "Epoch 022/100 | Loss 0.0023 | Win/lose count 9.0/17.099999999999977 (-8.099999999999977)\n",
            "Epoch 023/100 | Loss 0.0022 | Win/lose count 13.0/16.399999999999967 (-3.3999999999999666)\n",
            "Epoch 024/100 | Loss 0.0179 | Win/lose count 4.0/19.40000000000001 (-15.40000000000001)\n",
            "Epoch 025/100 | Loss 0.0355 | Win/lose count 3.5/18.499999999999993 (-14.999999999999993)\n",
            "Epoch 026/100 | Loss 0.0307 | Win/lose count 12.5/13.399999999999968 (-0.8999999999999684)\n",
            "Epoch 027/100 | Loss 0.0018 | Win/lose count 21.5/11.899999999999974 (9.600000000000026)\n",
            "Epoch 028/100 | Loss 0.0093 | Win/lose count 6.5/17.49999999999998 (-10.999999999999979)\n",
            "Epoch 029/100 | Loss 0.0022 | Win/lose count 11.0/14.799999999999963 (-3.7999999999999634)\n",
            "Epoch 030/100 | Loss 0.0041 | Win/lose count 7.0/17.299999999999976 (-10.299999999999976)\n",
            "Epoch 031/100 | Loss 0.0032 | Win/lose count 18.0/13.699999999999967 (4.300000000000033)\n",
            "Epoch 032/100 | Loss 0.0010 | Win/lose count 12.5/14.399999999999965 (-1.8999999999999648)\n",
            "Epoch 033/100 | Loss 0.0046 | Win/lose count 18.5/12.89999999999997 (5.60000000000003)\n",
            "Epoch 034/100 | Loss 0.0026 | Win/lose count 19.0/13.299999999999969 (5.700000000000031)\n",
            "Epoch 035/100 | Loss 0.0034 | Win/lose count 31.0/10.09999999999998 (20.90000000000002)\n",
            "Epoch 036/100 | Loss 0.0045 | Win/lose count 16.5/14.199999999999966 (2.3000000000000345)\n",
            "Epoch 037/100 | Loss 0.0059 | Win/lose count 12.5/15.099999999999962 (-2.5999999999999623)\n",
            "Epoch 038/100 | Loss 0.0201 | Win/lose count 7.0/16.499999999999964 (-9.499999999999964)\n",
            "Epoch 039/100 | Loss 0.0022 | Win/lose count 18.5/12.499999999999972 (6.000000000000028)\n",
            "Epoch 040/100 | Loss 0.0025 | Win/lose count 19.0/13.599999999999968 (5.400000000000032)\n",
            "Epoch 041/100 | Loss 0.0065 | Win/lose count 3.0/18.599999999999994 (-15.599999999999994)\n",
            "Epoch 042/100 | Loss 0.0009 | Win/lose count 16.0/13.499999999999968 (2.500000000000032)\n",
            "Epoch 043/100 | Loss 0.0042 | Win/lose count 3.0/19.0 (-16.0)\n",
            "Epoch 044/100 | Loss 0.0485 | Win/lose count 23.5/10.899999999999977 (12.600000000000023)\n",
            "Epoch 045/100 | Loss 0.0061 | Win/lose count 16.0/11.799999999999974 (4.200000000000026)\n",
            "Epoch 046/100 | Loss 0.0801 | Win/lose count 14.5/14.799999999999967 (-0.29999999999996696)\n",
            "Epoch 047/100 | Loss 0.0019 | Win/lose count 8.0/15.299999999999962 (-7.299999999999962)\n",
            "Epoch 048/100 | Loss 0.0018 | Win/lose count 20.0/11.899999999999974 (8.100000000000026)\n",
            "Epoch 049/100 | Loss 0.0012 | Win/lose count 23.5/10.399999999999983 (13.100000000000017)\n",
            "Epoch 050/100 | Loss 0.0060 | Win/lose count 15.5/12.599999999999971 (2.9000000000000288)\n",
            "Epoch 051/100 | Loss 0.0544 | Win/lose count 11.5/14.999999999999963 (-3.4999999999999627)\n",
            "Epoch 052/100 | Loss 0.0080 | Win/lose count 17.5/13.699999999999967 (3.8000000000000327)\n",
            "Epoch 053/100 | Loss 0.0020 | Win/lose count 11.5/16.79999999999997 (-5.299999999999969)\n",
            "Epoch 054/100 | Loss 0.0490 | Win/lose count 17.0/12.599999999999971 (4.400000000000029)\n",
            "Epoch 055/100 | Loss 0.0013 | Win/lose count 16.5/13.399999999999968 (3.1000000000000316)\n",
            "Epoch 056/100 | Loss 0.0027 | Win/lose count 15.5/13.799999999999967 (1.700000000000033)\n",
            "Epoch 057/100 | Loss 0.0044 | Win/lose count 6.5/16.599999999999966 (-10.099999999999966)\n",
            "Epoch 058/100 | Loss 0.0063 | Win/lose count 13.5/14.699999999999964 (-1.1999999999999638)\n",
            "Epoch 059/100 | Loss 0.0024 | Win/lose count 23.5/11.399999999999975 (12.100000000000025)\n",
            "Epoch 060/100 | Loss 0.0029 | Win/lose count 18.5/9.599999999999982 (8.900000000000018)\n",
            "Epoch 061/100 | Loss 0.0037 | Win/lose count 2.0/18.9 (-16.9)\n",
            "Epoch 062/100 | Loss 0.0012 | Win/lose count 21.0/10.899999999999977 (10.100000000000023)\n",
            "Epoch 063/100 | Loss 0.0038 | Win/lose count 16.5/11.799999999999974 (4.700000000000026)\n",
            "Epoch 064/100 | Loss 0.0005 | Win/lose count 26.5/9.199999999999983 (17.30000000000002)\n",
            "Epoch 065/100 | Loss 0.0006 | Win/lose count 5.0/16.499999999999964 (-11.499999999999964)\n",
            "Epoch 066/100 | Loss 0.0494 | Win/lose count 21.0/11.099999999999977 (9.900000000000023)\n",
            "Epoch 067/100 | Loss 0.0020 | Win/lose count 16.5/14.499999999999964 (2.0000000000000355)\n",
            "Epoch 068/100 | Loss 0.0541 | Win/lose count 20.5/11.099999999999977 (9.400000000000023)\n",
            "Epoch 069/100 | Loss 0.0009 | Win/lose count 17.0/14.799999999999963 (2.2000000000000366)\n",
            "Epoch 070/100 | Loss 0.0021 | Win/lose count 23.0/11.199999999999976 (11.800000000000024)\n",
            "Epoch 071/100 | Loss 0.0034 | Win/lose count 14.0/15.399999999999961 (-1.3999999999999613)\n",
            "Epoch 072/100 | Loss 0.0014 | Win/lose count 11.5/15.499999999999961 (-3.999999999999961)\n",
            "Epoch 073/100 | Loss 0.0043 | Win/lose count 17.0/12.199999999999973 (4.800000000000027)\n",
            "Epoch 074/100 | Loss 0.0007 | Win/lose count 16.0/12.69999999999997 (3.300000000000029)\n",
            "Epoch 075/100 | Loss 0.0033 | Win/lose count 10.5/15.199999999999962 (-4.699999999999962)\n",
            "Epoch 076/100 | Loss 0.0023 | Win/lose count 15.0/12.89999999999997 (2.10000000000003)\n",
            "Epoch 077/100 | Loss 0.0019 | Win/lose count 2.5/18.799999999999997 (-16.299999999999997)\n",
            "Epoch 078/100 | Loss 0.0007 | Win/lose count 14.5/14.699999999999964 (-0.19999999999996376)\n",
            "Epoch 079/100 | Loss 0.0015 | Win/lose count 17.5/11.799999999999974 (5.700000000000026)\n",
            "Epoch 080/100 | Loss 0.0016 | Win/lose count 19.5/11.499999999999975 (8.000000000000025)\n",
            "Epoch 081/100 | Loss 0.0030 | Win/lose count 19.5/11.599999999999975 (7.900000000000025)\n",
            "Epoch 082/100 | Loss 0.0043 | Win/lose count 20.5/12.899999999999972 (7.600000000000028)\n",
            "Epoch 083/100 | Loss 0.0041 | Win/lose count 18.5/11.899999999999974 (6.600000000000026)\n",
            "Epoch 084/100 | Loss 0.0524 | Win/lose count 21.0/12.199999999999973 (8.800000000000027)\n",
            "Epoch 085/100 | Loss 0.0022 | Win/lose count 5.5/17.899999999999984 (-12.399999999999984)\n",
            "Epoch 086/100 | Loss 0.0024 | Win/lose count 5.5/18.499999999999993 (-12.999999999999993)\n",
            "Epoch 087/100 | Loss 0.0030 | Win/lose count 25.0/8.199999999999987 (16.80000000000001)\n",
            "Epoch 088/100 | Loss 0.0021 | Win/lose count 11.0/16.09999999999996 (-5.099999999999959)\n",
            "Epoch 089/100 | Loss 0.0126 | Win/lose count 20.0/12.79999999999997 (7.2000000000000295)\n",
            "Epoch 090/100 | Loss 0.0039 | Win/lose count 21.0/11.699999999999974 (9.300000000000026)\n",
            "Epoch 091/100 | Loss 0.0104 | Win/lose count 21.0/8.399999999999986 (12.600000000000014)\n",
            "Epoch 092/100 | Loss 0.0608 | Win/lose count 14.5/12.69999999999997 (1.8000000000000291)\n",
            "Epoch 093/100 | Loss 0.0022 | Win/lose count 4.5/17.999999999999986 (-13.499999999999986)\n",
            "Epoch 094/100 | Loss 0.0016 | Win/lose count 20.0/12.99999999999997 (7.00000000000003)\n",
            "Epoch 095/100 | Loss 0.0032 | Win/lose count 10.0/14.199999999999966 (-4.1999999999999655)\n",
            "Epoch 096/100 | Loss 0.0045 | Win/lose count 13.5/15.299999999999962 (-1.7999999999999616)\n",
            "Epoch 097/100 | Loss 0.0007 | Win/lose count 22.0/11.599999999999975 (10.400000000000025)\n",
            "Epoch 098/100 | Loss 0.0032 | Win/lose count 14.0/13.899999999999967 (0.1000000000000334)\n",
            "Epoch 099/100 | Loss 0.0062 | Win/lose count 14.0/14.099999999999966 (-0.0999999999999659)\n"
          ],
          "name": "stdout"
        },
        {
          "output_type": "execute_result",
          "data": {
            "text/html": [
              "<video alt=\"test\" controls>\n",
              "                <source src=\"data:video/mp4;base64,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\" type=\"video/mp4\" />\n",
              "             </video>"
            ],
            "text/plain": [
              "<IPython.core.display.HTML object>"
            ]
          },
          "metadata": {
            "tags": []
          },
          "execution_count": 21
        }
      ]
    },
    {
      "cell_type": "code",
      "metadata": {
        "id": "UdvWvwpXtpYK",
        "colab_type": "code",
        "colab": {
          "base_uri": "https://localhost:8080/",
          "height": 657
        },
        "outputId": "61e87135-55f4-422a-8b84-2cc3c8916932"
      },
      "source": [
        "# Evaluation\n",
        "test(agent,env,epochs_test,prefix='cnn_test_explore')\n",
        "HTML(display_videos('cnn_test_explore10.mp4'))"
      ],
      "execution_count": 22,
      "outputs": [
        {
          "output_type": "stream",
          "text": [
            "Win/lose count 8.5/0. Average score (8.5)\n",
            "Win/lose count 21.0/3.0. Average score (13.25)\n",
            "Win/lose count 18.0/1.0. Average score (14.5)\n",
            "Win/lose count 15.0/0. Average score (14.625)\n",
            "Win/lose count 8.0/0. Average score (13.3)\n",
            "Win/lose count 8.0/0. Average score (12.416666666666666)\n",
            "Win/lose count 6.5/0. Average score (11.571428571428571)\n",
            "Win/lose count 19.0/0. Average score (12.5)\n",
            "Win/lose count 14.0/0. Average score (12.666666666666666)\n",
            "Win/lose count 11.5/0. Average score (12.55)\n",
            "Win/lose count 11.0/0. Average score (12.409090909090908)\n",
            "Win/lose count 5.0/0. Average score (11.791666666666666)\n",
            "Win/lose count 18.5/0. Average score (12.307692307692308)\n",
            "Win/lose count 7.5/1.0. Average score (11.892857142857142)\n",
            "Win/lose count 8.0/0. Average score (11.633333333333333)\n",
            "Win/lose count 15.0/1.0. Average score (11.78125)\n",
            "Win/lose count 5.0/0. Average score (11.382352941176471)\n",
            "Win/lose count 16.5/0. Average score (11.666666666666666)\n",
            "Win/lose count 7.5/0. Average score (11.447368421052632)\n",
            "Win/lose count 2.0/0. Average score (10.975)\n",
            "Final score: 10.975\n"
          ],
          "name": "stdout"
        },
        {
          "output_type": "execute_result",
          "data": {
            "text/html": [
              "<video alt=\"test\" controls>\n",
              "                <source src=\"data:video/mp4;base64,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\" type=\"video/mp4\" />\n",
              "             </video>"
            ],
            "text/plain": [
              "<IPython.core.display.HTML object>"
            ]
          },
          "metadata": {
            "tags": []
          },
          "execution_count": 22
        }
      ]
    },
    {
      "cell_type": "markdown",
      "metadata": {
        "id": "BpNTZH6StpYW",
        "colab_type": "text"
      },
      "source": [
        "***\n",
        "***\n",
        "__BONUS question__ Use the expert DQN from the previous question to generate some winning games. Train a model that mimicks its behavior. Compare the performances."
      ]
    },
    {
      "cell_type": "markdown",
      "metadata": {
        "id": "xBh8hoKrtpYb",
        "colab_type": "text"
      },
      "source": [
        ""
      ]
    },
    {
      "cell_type": "markdown",
      "metadata": {
        "id": "GXvYRzaQtpYd",
        "colab_type": "text"
      },
      "source": [
        "***"
      ]
    }
  ]
}
